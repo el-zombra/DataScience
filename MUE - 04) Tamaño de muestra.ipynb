{
 "cells": [
  {
   "cell_type": "markdown",
   "id": "d05e85ca",
   "metadata": {},
   "source": [
    "# Selección del tamaño de muestra\n",
    "\n",
    "    - Un tamaño de muestra -n- muy pequeño implica inferencias inútiles o intervalos de confianza muy grandas, mientras que un tamaño de muestra grande implica que existan costos elevados o no se pueda garantizar la calidad de la información\n",
    "    \n",
    "    - Para las implicaciones siguientes se supone la normalidad en el estimador."
   ]
  },
  {
   "cell_type": "markdown",
   "id": "7cf8f2cf",
   "metadata": {},
   "source": [
    "### 1] Definir una población\n",
    "    - Gracias al TLC, sin importar la distribución de la VA, es posible realizar las estimaciones de las medias, totales y proporciones"
   ]
  },
  {
   "cell_type": "code",
   "execution_count": 80,
   "id": "c358baf5",
   "metadata": {},
   "outputs": [],
   "source": [
    "import pandas as pd\n",
    "import numpy as np\n",
    "from scipy.stats import norm\n",
    "\n",
    "\n",
    "# Define a population --- --- --- --- --- --- --- --- --- --- --- --- --- --- --- --- --- --- --- --- --- \n",
    "\n",
    "# Settings\n",
    "confidence = 0.99\n",
    "N = 1000\n",
    "n_pilot = 50\n",
    "P = 0.35\n",
    "\n",
    "# Define columns to be included\n",
    "score = np.random.normal(loc=6.5, scale=1.5, size=N)\n",
    "money = np.random.randint(low=200, high=1200, size=N)\n",
    "is_male = np.where(np.random.uniform(size=N)<P, 1, 0)\n",
    "\n",
    "# Put together data into a df\n",
    "df_population = pd.DataFrame(np.vstack([score, money, is_male]).T, columns=[\"score\", \"money\", \"is_male\"])\n",
    "\n",
    "\n",
    "\n",
    "# Select a random sample --- --- --- --- --- --- --- --- --- --- --- --- --- --- --- --- --- --- --- --- --- \n",
    "\n",
    "# Create auxiliary column to randomize the sample\n",
    "df_population[\"mask\"] = np.random.uniform(size=N)\n",
    "\n",
    "# Sort and select elements randomly\n",
    "df_pilot = df_population.sort_values(by=[\"mask\"])[:n_pilot]\n",
    "\n",
    "# Drop auxiliary column\n",
    "df_population.drop([\"mask\"], axis=1, inplace=True)"
   ]
  },
  {
   "cell_type": "markdown",
   "id": "25685436",
   "metadata": {},
   "source": [
    "### 1] Promedio - Calcular tamaño de muestra para estimación\n",
    "\n",
    "    - Se selecciona una precisión (d) y un nivel confianza (c) (1-alpha)\n",
    "    \n",
    "    - Se realiza una prueba piloto para calcular:\n",
    "        - mean = sum(y_i) / n\n",
    "        - var = sum( (y_i-mean)^2 ) / (n-1)\n",
    "        - std = var^0.5\n",
    "    \n",
    "    - Cuando N es grande:\n",
    "        n0 = ( std * z(1-alpha/2) / d )^2\n",
    "            donde: \n",
    "            z(1-alpha/2) es la inversa de una función normal estándar\n",
    "            d = error absoluto (en unidades de la media)\n",
    "        \n",
    "            \n",
    "    - Cuando N es pequeña\n",
    "        n = n0 / (1 + n0/N)\n",
    "            \n",
    "    - Existen fórmulas específicas que se pueden utilizar para expresar el error de manera relativa (x% mean) en vez de errores absolutos (en unidades de mean)\n",
    "    \n",
    "    - Nótese que se necesita conocer S^2 para conocer el tamaño de muestra. Lo que se sugiere es hacer una prueba piloto o de encuestas anteriores"
   ]
  },
  {
   "cell_type": "code",
   "execution_count": 81,
   "id": "c98fc08a",
   "metadata": {},
   "outputs": [
    {
     "name": "stdout",
     "output_type": "stream",
     "text": [
      "Estimate mean of score with 99% of confidence\n",
      "Expected error: 0.5\n",
      "mean: 6.55 - stdev: 1.51\n",
      "\n",
      "Sample size: 58\n"
     ]
    }
   ],
   "source": [
    "# Calculation is done using \"score\" variable\n",
    "\n",
    "# Settings\n",
    "d = 0.50\n",
    "print(\"Estimate mean of score with \"+str(int(confidence*100))+\"% of confidence\")\n",
    "print(\"Expected error: \"+str(d))\n",
    "\n",
    "# Estimate pilot variance\n",
    "mean = df_pilot[\"score\"].mean()\n",
    "var = df_pilot[\"score\"].var(ddof=1)\n",
    "std = var**0.5\n",
    "print(\"mean: \"+str(round(mean,2))+\" - stdev: \"+str(round(std,2)))\n",
    "\n",
    "# Calculate sample size\n",
    "n0 = (std * norm.ppf(0.5+confidence/2) / d)**2\n",
    "n = np.ceil(n0 / (1+n0/N))\n",
    "print(\"\\nSample size: \"+str(int(n)))"
   ]
  },
  {
   "cell_type": "markdown",
   "id": "8026fddd",
   "metadata": {},
   "source": [
    "### 2] Total - Calcular tamaño de muestra para estimación\n",
    "\n",
    "    - Se realiza una prueba piloto para calcular la varianza de las observaciones\n",
    "        - total = N * mean = (N/n) * sum(y_i)\n",
    "        \n",
    "    - Cuando N es grande:\n",
    "        n0 = ( N * std * z(1-alpha/2) / d )^2\n",
    "            donde: \n",
    "            z(1-alpha/2) es la inversa de una función normal estándar\n",
    "            d = error absoluto (en unidades de la media)\n",
    "        \n",
    "            \n",
    "    - Cuando N es pequeña\n",
    "        n = n0 / (1 + n0/N)"
   ]
  },
  {
   "cell_type": "code",
   "execution_count": 82,
   "id": "4d6a6fcb",
   "metadata": {},
   "outputs": [
    {
     "name": "stdout",
     "output_type": "stream",
     "text": [
      "Estimate total of money with 99% of confidence\n",
      "Expected error: 50000\n",
      "total: 665480.0 - stdev: 270.72\n",
      "\n",
      "Sample size: 163\n"
     ]
    }
   ],
   "source": [
    "# Analysis is done using \"money\" variable\n",
    "\n",
    "# Settings\n",
    "d = 50000\n",
    "print(\"Estimate total of money with \"+str(int(confidence*100))+\"% of confidence\")\n",
    "print(\"Expected error: \"+str(d))\n",
    "\n",
    "# Estimate pilot variance\n",
    "total = df_pilot[\"money\"].mean()\n",
    "var = df_pilot[\"money\"].var(ddof=1)\n",
    "std = var**0.5\n",
    "print(\"total: \"+str(round(total*N,2))+\" - stdev: \"+str(round(std,2)))\n",
    "\n",
    "# Calculate sample size\n",
    "n0 = (N * std * norm.ppf(0.5+confidence/2) / d)**2\n",
    "n = np.ceil(n0 / (1+n0/N))\n",
    "print(\"\\nSample size: \"+str(int(n)))"
   ]
  },
  {
   "cell_type": "markdown",
   "id": "81ca64f1",
   "metadata": {},
   "source": [
    "### 3] Proporción - Calcular tamaño de muestra para estimación\n",
    "\n",
    "    - Se realiza una prueba piloto para calcular la varianza de las observaciones\n",
    "        - total = N * mean = (N/n) * sum(y_i)\n",
    "        \n",
    "    - Cuano N es muy grande:\n",
    "        n0 = ( z(1-alpha/2) * P * (1-P) ) / d^2\n",
    "        donde:\n",
    "            z(1-alpha/2) es la inversa de una función normal estándar\n",
    "            d = error absoluto (en unidades de la media) \n",
    "            P = proporción\n",
    "    \n",
    "    - Cuando N es pequeña:\n",
    "            n = n0 / (1 + n0/N)"
   ]
  },
  {
   "cell_type": "code",
   "execution_count": 91,
   "id": "9a283948",
   "metadata": {},
   "outputs": [
    {
     "name": "stdout",
     "output_type": "stream",
     "text": [
      "Estimate total of is male with 99% of confidence\n",
      "Expected error: 0.15\n",
      "proportion: 0.32\n",
      "\n",
      "Sample size: 61\n"
     ]
    }
   ],
   "source": [
    "# Analysis is done using \"is_male\" variable\n",
    "\n",
    "# Settings\n",
    "d = 0.15\n",
    "print(\"Estimate total of is male with \"+str(int(confidence*100))+\"% of confidence\")\n",
    "print(\"Expected error: \"+str(d))\n",
    "\n",
    "# Estimate pilot proportion\n",
    "prop = df_pilot[\"is_male\"].sum() / n_pilot\n",
    "print(\"proportion: \"+str(round(prop,2)))\n",
    "\n",
    "# Calculate sample size\n",
    "n0 = (norm.ppf(0.5+confidence/2)**2 * prop * (1-prop)) / d**2\n",
    "n = np.ceil(n0 / (1+n0/N))\n",
    "print(\"\\nSample size: \"+str(int(n)))"
   ]
  }
 ],
 "metadata": {
  "kernelspec": {
   "display_name": "Python 3 (ipykernel)",
   "language": "python",
   "name": "python3"
  },
  "language_info": {
   "codemirror_mode": {
    "name": "ipython",
    "version": 3
   },
   "file_extension": ".py",
   "mimetype": "text/x-python",
   "name": "python",
   "nbconvert_exporter": "python",
   "pygments_lexer": "ipython3",
   "version": "3.7.11"
  }
 },
 "nbformat": 4,
 "nbformat_minor": 5
}
