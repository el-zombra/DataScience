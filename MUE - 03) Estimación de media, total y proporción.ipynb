{
 "cells": [
  {
   "cell_type": "markdown",
   "id": "9171bbfc",
   "metadata": {},
   "source": [
    "# Estimación de media, total y proporción\n",
    "    - Debido al teorema del límite central, es posible estimar la media de una manifestación aleatoria, se cual sea su función de probabilidad origina\n",
    "\n",
    "    - Por la naturaleza estocástica de los fenómenos no es posible dar una estimación puntual de las características estadísticas, sino que la estimación se hace a través de intervalos de confianza\n",
    "\n",
    "    - Se definen las siguientes medidas:\n",
    "        - Media: sum(y_i)/N\n",
    "        - Total: sum(y_i)\n",
    "        - Proporción = sum(1 if condición(y_i) else 0) / N"
   ]
  },
  {
   "cell_type": "markdown",
   "id": "313dcec8",
   "metadata": {},
   "source": [
    "### 1] Definir una población\n",
    "    - Gracias al TLC, sin importar la distribución de la VA, es posible realizar las estimaciones de las medias, totales y proporciones"
   ]
  },
  {
   "cell_type": "code",
   "execution_count": 2,
   "id": "bb475057",
   "metadata": {},
   "outputs": [],
   "source": [
    "import pandas as pd\n",
    "import numpy as np\n",
    "\n",
    "\n",
    "# Define a population --- --- --- --- --- --- --- --- --- --- --- --- --- --- --- --- --- --- --- --- --- \n",
    "\n",
    "# Settings\n",
    "confidence = 0.90\n",
    "N = 1000\n",
    "n = 27\n",
    "P = 0.15\n",
    "\n",
    "# Define columns to be included\n",
    "score = np.random.normal(loc=6.5, scale=1.5, size=N)\n",
    "money = np.random.randint(low=200, high=1200, size=N)\n",
    "is_male = np.where(np.random.uniform(size=N)<P, 1, 0)\n",
    "\n",
    "# Put together data into a df\n",
    "df_population = pd.DataFrame(np.vstack([score, money, is_male]).T, columns=[\"score\", \"money\", \"is_male\"])\n",
    "\n",
    "\n",
    "\n",
    "# Select a random sample --- --- --- --- --- --- --- --- --- --- --- --- --- --- --- --- --- --- --- --- --- \n",
    "\n",
    "# Create auxiliary column to randomize the sample\n",
    "df_population[\"mask\"] = np.random.uniform(size=N)\n",
    "\n",
    "# Sort and select elements randomly\n",
    "df_sample = df_population.sort_values(by=[\"mask\"])[:n]\n",
    "\n",
    "# Drop auxiliary column\n",
    "df_population.drop([\"mask\"], axis=1, inplace=True)"
   ]
  },
  {
   "cell_type": "markdown",
   "id": "369873a2",
   "metadata": {},
   "source": [
    "### 2] Estimador de la media\n",
    "\n",
    "    - Los estimadores insesgados son:\n",
    "            - mean = sum(y_i) / n\n",
    "            - var = sum( (y_i-mean)^2 ) / (n-1)\n",
    "            - V(mean) = (1 - n/N) * var / n\n",
    "              donde a (1 - n/N) se le conoce como factor de corrección por finitud\n",
    "            \n",
    "    - Dichos estimadores tienen una varianza asociada\n",
    "\n",
    "    - Las medias muestrales se distribuyen normalmente con los parámetros estimados previamente\n",
    "            - Intervalo de confianza al alpha%:\n",
    "            [ mean - var*normstdinv(alpha/2) , mean + var*normstdinv(alpha/2) ]\n",
    "            \n",
    "            - Sin embargo, como se utiliza var el estomador de V, en vez de emplear una distribución normal, se opta por utilizar T-Student con n-1 grados de libertad"
   ]
  },
  {
   "cell_type": "code",
   "execution_count": 3,
   "id": "d80a3959",
   "metadata": {},
   "outputs": [
    {
     "name": "stdout",
     "output_type": "stream",
     "text": [
      "Population | mean: 6.49 - var: 2.25\n",
      "Sample     | mean: 6.39 - var: 1.79\n",
      "Confidence interval: [5.96, 6.82]\n",
      "\n",
      "Valid!\n"
     ]
    }
   ],
   "source": [
    "# Analysis to be done with \"score\" variable\n",
    "\n",
    "# Population parameters\n",
    "p_mean = df_population[\"score\"].mean()\n",
    "p_var = df_population[\"score\"].var(ddof=0)\n",
    "print(\"Population | mean: \"+str(round(p_mean,2))+\" - var: \"+str(round(p_var,2)))\n",
    "\n",
    "# Estimation of parameters using the sample\n",
    "mean = df_sample[\"score\"].mean()\n",
    "var = df_sample[\"score\"].var(ddof=1)\n",
    "print(\"Sample     | mean: \"+str(round(mean,2))+\" - var: \"+str(round(var,2)))\n",
    "\n",
    "# Calculate confidence interval\n",
    "from scipy.stats import t\n",
    "mean_var = (1 - n/N) * var /n\n",
    "mean_std = mean_var**0.5\n",
    "mean_interval =  mean + mean_std*t(df=n-1).ppf((0.5-confidence/2, 0.5+confidence/2))\n",
    "print(\"Confidence interval: [\"+ str(round(mean_interval[0],2))+ \", \"+ str(round(mean_interval[1],2))+\"]\")\n",
    "\n",
    "# Accuracy of estimation\n",
    "if p_mean > mean_interval[0] and p_mean < mean_interval[1]:\n",
    "    print(\"\\nValid!\")\n",
    "else:\n",
    "    print(\"\\nNot valid!\")"
   ]
  },
  {
   "cell_type": "markdown",
   "id": "5787af75",
   "metadata": {},
   "source": [
    "### 3] Estimador del total\n",
    "\n",
    "    - Se define el total de una variable como la suma a través de todos los elementos\n",
    "        total = sum(y_i)\n",
    "\n",
    "    - Los estimadores insesgados son:\n",
    "        - total = N * mean = sum( N/n * y_i)\n",
    "        - V(total) = N^2 * (1-n/N) * S^2/n\n",
    "\n",
    "    - El total de las muestras siguen una distribución normal con los parámetros descritos arriba\n",
    "\n",
    "    - Para calcular los intervalos de confianza se sigue el procedimiento de la media."
   ]
  },
  {
   "cell_type": "code",
   "execution_count": 419,
   "id": "4e222f34",
   "metadata": {},
   "outputs": [
    {
     "name": "stdout",
     "output_type": "stream",
     "text": [
      "Population | total: 709408\n",
      "Sample     | total: 715400\n",
      "Confidence interval: [650219.62, 780580.38]\n",
      "\n",
      "Valid!\n"
     ]
    }
   ],
   "source": [
    "# Analysis to be done with \"money\" variable\n",
    "\n",
    "# Population paramateres\n",
    "p_total = df_population[\"money\"].sum()\n",
    "print(\"Population | total: \"+str(int(p_total)))\n",
    "\n",
    "# Sample paramters\n",
    "total = N/n * df_sample[\"money\"].sum()\n",
    "print(\"Sample     | total: \"+str(int(total)))\n",
    "\n",
    "# Calculate confidence intervals\n",
    "total_var = N**2 * (1-n/N) * df_sample[\"money\"].var(ddof=1)/n\n",
    "total_std = total_var**0.5\n",
    "total_interval = total + total_std*t(df=n-1).ppf((0.5-confidence/2, 0.5+confidence/2))\n",
    "print(\"Confidence interval: [\"+ str(round(total_interval[0],2))+ \", \"+ str(round(total_interval[1],2))+\"]\")\n",
    "\n",
    "# Accuracy of estimation\n",
    "if p_total > total_interval[0] and p_total < total_interval[1]:\n",
    "    print(\"\\nValid!\")\n",
    "else:\n",
    "    print(\"\\nNot valid!\")"
   ]
  },
  {
   "cell_type": "markdown",
   "id": "f98fb2cc",
   "metadata": {},
   "source": [
    "### 4] Estimador de una proporción\n",
    "\n",
    "    - Sea y una variable binaria [0, 1], la cual indique que la unidad posee o no una cualidad, se define la proporción de aquellos que tienen una cualidad dentro de la población como:\n",
    "        prop = sum(y_i) / N\n",
    "   \n",
    "    - El análisis estadístico debe realizarse en cualidades que sean -comunes- dentro de la población, donde aproximadamente prop > 0.2\n",
    "        \n",
    "    - Los estimadores insesgados son:\n",
    "        prop = sum(y_i) / n = mean\n",
    "        V(prop) = (1-n/N) * 1/n * N/(N-1) * prop*(1-prop)\n",
    "        \n",
    "    - Los estimadores insesgados para estimar el número de unidades que cuenten con la característica dentro de la población:\n",
    "        N_prop = N*prop\n",
    "        V(N_prop) = N^2 * V(prop)"
   ]
  },
  {
   "cell_type": "code",
   "execution_count": 420,
   "id": "d4b59505",
   "metadata": {},
   "outputs": [
    {
     "name": "stdout",
     "output_type": "stream",
     "text": [
      "Population | prop: 0.14 N_prop: 137\n",
      "Sample     | prop: 0.14 N_prop: 140\n",
      "Confidence interval: [0.06, 0.22] and [59, 220]\n",
      "\n",
      "Valid!\n"
     ]
    }
   ],
   "source": [
    "# Analysis is done using \"Is_male\" variable\n",
    "\n",
    "\n",
    "# Population parameters\n",
    "p_prop = sum(df_population[\"is_male\"]) / N\n",
    "p_N_prop = sum(df_population[\"is_male\"])\n",
    "print(\"Population | prop: \"+str(round(p_prop,2)) + \" N_prop: \"+ str(int(p_N_prop)))\n",
    "\n",
    "# Estimate parameters\n",
    "prop = df_sample[\"is_male\"].sum() / n\n",
    "N_prop = N*prop\n",
    "print(\"Sample     | prop: \"+str(round(prop,2)) + \" N_prop: \"+ str(int(N_prop)))\n",
    "\n",
    "# Calculate confidence intervals\n",
    "prop_var = (1-n/N) * 1/n * N/(N-1) * prop*(1-prop)\n",
    "prop_std = prop_var**0.5\n",
    "prop_interval = prop + prop_std*t(df=n-1).ppf((0.5-confidence/2, 0.5+confidence/2))\n",
    "print(\"Confidence interval: [\"+ str(round(prop_interval[0],2))+ \", \"+ str(round(prop_interval[1],2))+\"]\" + \" and [\"+ str(int(N*prop_interval[0]))+ \", \"+ str(int(N*prop_interval[1]))+\"]\")\n",
    "\n",
    "# Accuracy of estimation\n",
    "if p_prop > prop_interval[0] and p_prop < prop_interval[1]:\n",
    "    print(\"\\nValid!\")\n",
    "else:\n",
    "    print(\"\\nNot valid!\")"
   ]
  }
 ],
 "metadata": {
  "kernelspec": {
   "display_name": "Python 3 (ipykernel)",
   "language": "python",
   "name": "python3"
  },
  "language_info": {
   "codemirror_mode": {
    "name": "ipython",
    "version": 3
   },
   "file_extension": ".py",
   "mimetype": "text/x-python",
   "name": "python",
   "nbconvert_exporter": "python",
   "pygments_lexer": "ipython3",
   "version": "3.7.11"
  }
 },
 "nbformat": 4,
 "nbformat_minor": 5
}
