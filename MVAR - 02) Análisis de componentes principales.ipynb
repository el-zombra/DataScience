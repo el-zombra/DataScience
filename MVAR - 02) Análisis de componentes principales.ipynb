{
 "cells": [
  {
   "cell_type": "markdown",
   "id": "decdaa88",
   "metadata": {},
   "source": [
    "# Análisis de componentes principales (PCA)\n",
    "\n",
    "    - El análisis de componentes principales (Principal component analysis) es una técnica de reducción de dimensionalidad, ya que los datos se transforman en un nuevo set de datos que son linealmente independientes y que conservan la mayor varianza posible de la información original en el menor número de nuevas variables\n",
    "    \n",
    "    - El método consiste en calcular los eigenvalores y eigenvectores (unitarios) de la matriz de covarianza o correlación de los datos centrados respecto a la media (resultando en media 0). Cuando la matriz de covarianza es utilizada es para preservar la interpretabilidad de los resultados. Sin embargo, cuando las variables no son homogeneas en sus unidades o existe una dispersión excesiva de los datos se recomiendo usar la matriz de correlación (normalizada por la desviación estándar para obtener varianza 1).\n",
    "    \n",
    "    - Cuando se calcula R con N-1 o con N, los eigenvalores de las matrices no cambian"
   ]
  },
  {
   "cell_type": "markdown",
   "id": "8ab72a63",
   "metadata": {},
   "source": [
    "### 1] Obtener muestra multivariada\n",
    "\n",
    "    - Se utiliza el dataset iris por conveniencia."
   ]
  },
  {
   "cell_type": "code",
   "execution_count": 78,
   "id": "b3533f78",
   "metadata": {},
   "outputs": [
    {
     "name": "stdout",
     "output_type": "stream",
     "text": [
      "====================================================================================================\n",
      "       sep_len  sep_wid  pet_len  pet_wid  target   class\n",
      "index                                                    \n",
      "0          5.1      3.5      1.4      0.2     0.0  setosa\n",
      "1          4.9      3.0      1.4      0.2     0.0  setosa\n",
      "2          4.7      3.2      1.3      0.2     0.0  setosa\n",
      "3          4.6      3.1      1.5      0.2     0.0  setosa\n",
      "4          5.0      3.6      1.4      0.2     0.0  setosa\n",
      "====================================================================================================\n"
     ]
    }
   ],
   "source": [
    "import pandas as pd\n",
    "import numpy as np\n",
    "from sklearn import datasets\n",
    "\n",
    "# Numeric variables to run PCA\n",
    "features = [\"sep_len\", \"sep_wid\", \"pet_len\", \"pet_wid\"]\n",
    "\n",
    "# Load iris dataset\n",
    "iris = datasets.load_iris()\n",
    "df_data = pd.DataFrame(data=np.c_[iris[\"data\"], iris[\"target\"]], columns=features + [\"target\"])\n",
    "df_aux_target = pd.DataFrame.from_dict({\"target\": [i for i in range(3)], \"class\": iris[\"target_names\"]})\n",
    "df_data = pd.merge(df_data, df_aux_target, on=\"target\", how=\"left\")\n",
    "df_data.index.name = \"index\"\n",
    "\n",
    "# Output\n",
    "print(\"=\"*100)\n",
    "print(df_data.head(5))\n",
    "print(\"=\"*100)"
   ]
  },
  {
   "cell_type": "markdown",
   "id": "725b6d7a",
   "metadata": {},
   "source": [
    "### 2] Correr PCA Manualmente\n",
    "\n",
    "    - Se muestran los resultados más importantes para un análisis futuro."
   ]
  },
  {
   "cell_type": "code",
   "execution_count": 79,
   "id": "d23523b7",
   "metadata": {
    "scrolled": true
   },
   "outputs": [
    {
     "name": "stdout",
     "output_type": "stream",
     "text": [
      "====================================================================================================\n",
      "Eigenvalues:\n",
      " [2.938 0.92  0.148 0.021]\n",
      "\n",
      "Eigenvectors:\n",
      "    eigenvec_0  eigenvec_1  eigenvec_2  eigenvec_3\n",
      "0       0.521      -0.377      -0.720       0.261\n",
      "1      -0.269      -0.923       0.244      -0.124\n",
      "2       0.580      -0.024       0.142      -0.801\n",
      "3       0.565      -0.067       0.634       0.524\n",
      "\n",
      "Percentage of explained variance: \n",
      " [0.73  0.229 0.037 0.005]\n",
      "\n",
      "Scores of principal components:\n",
      "        PC_1      PC_2      PC_3      PC_4\n",
      "0 -2.264703 -0.480027 -0.127706  0.024168\n",
      "1 -2.080961  0.674134 -0.234609  0.103007\n",
      "2 -2.364229  0.341908  0.044201  0.028377\n",
      "====================================================================================================\n"
     ]
    }
   ],
   "source": [
    "# Transform data by centering to the mean and scaling to unit variance\n",
    "trans_data = ( (df_data[features] - df_data[features].mean(axis=0))\n",
    "              / (df_data[features].var(axis=0, ddof=0)**0.5) )\n",
    "\n",
    "# Compute covariance matrix\n",
    "R_mx = np.cov(trans_data, bias=False, rowvar=False)\n",
    "\n",
    "# Calculate eigenvalues\n",
    "eigen = np.linalg.eig(R_mx)\n",
    "eigenvalues = eigen[0]\n",
    "\n",
    "# Eigenvectors, returned vertically\n",
    "eigenvectors = pd.DataFrame(eigen[1], columns=[\"eigenvec_\"+str(i) for i in range(4)])\n",
    "\n",
    "# Percentage of explained variance for each PC\n",
    "perc_exp_var = eigenvalues / eigenvalues.sum()\n",
    "\n",
    "# Scores or transformed data or projected data into PCs\n",
    "scores = np.matmul(np.array(trans_data), np.array(eigenvectors))\n",
    "scores = pd.DataFrame(scores, columns=[\"PC_\"+str(i) for i in range(1,5)])\n",
    "\n",
    "# Output\n",
    "print(\"=\"*100)\n",
    "print(\"Eigenvalues:\\n\",np.round(eigenvalues,3))\n",
    "print(\"\\nEigenvectors:\\n\", np.round(eigenvectors,3))\n",
    "print(\"\\nPercentage of explained variance: \\n\",np.round(eigenvalues / eigenvalues.sum(),3))\n",
    "print(\"\\nScores of principal components:\\n\", scores.head(3))\n",
    "print(\"=\"*100)"
   ]
  },
  {
   "cell_type": "markdown",
   "id": "508ae713",
   "metadata": {},
   "source": [
    "### 3] PCA con librerías\n",
    "\n",
    "    - Se muestra el proceso de ejecución y los atributos más importantes"
   ]
  },
  {
   "cell_type": "code",
   "execution_count": 80,
   "id": "438d8db4",
   "metadata": {
    "scrolled": true
   },
   "outputs": [
    {
     "name": "stdout",
     "output_type": "stream",
     "text": [
      "====================================================================================================\n",
      "Eigenvalues:\n",
      " [2.918 0.914 0.147 0.021]\n",
      "\n",
      "Eigenvectors:\n",
      " [[ 0.521  0.377 -0.72  -0.261]\n",
      " [-0.269  0.923  0.244  0.124]\n",
      " [ 0.58   0.024  0.142  0.801]\n",
      " [ 0.565  0.067  0.634 -0.524]]\n",
      "\n",
      "Percentage of explained variance: \n",
      " [0.73  0.229 0.037 0.005]\n",
      "\n",
      "Scores of principal components:\n",
      "        PC_1      PC_2      PC_3      PC_4\n",
      "0 -2.264703  0.480027 -0.127706 -0.024168\n",
      "1 -2.080961 -0.674134 -0.234609 -0.103007\n",
      "2 -2.364229 -0.341908  0.044201 -0.028377\n",
      "====================================================================================================\n"
     ]
    }
   ],
   "source": [
    "# Transform data\n",
    "from sklearn.preprocessing import StandardScaler\n",
    "scaler = StandardScaler()\n",
    "scaler.fit(df_data[features])\n",
    "trans_data = scaler.transform(df_data[features])\n",
    "\n",
    "# Run PCA model and get PC projections\n",
    "from sklearn.decomposition import PCA\n",
    "pca_model = PCA()\n",
    "pca_model.fit(trans_data)\n",
    "\n",
    "# Calculate eigenvalues and vectors\n",
    "pca_data = pca_model.transform(trans_data)\n",
    "eigenvalues = pca_data.var(axis=0, ddof=0)\n",
    "\n",
    "# Eigenvectors, returned vertically\n",
    "# ... by default are returned horizontally\n",
    "eigenvectors = pca_model.components_.T\n",
    "\n",
    "# Percentage of explained variance for each PC\n",
    "perc_exp_var = pca_model.explained_variance_ratio_\n",
    "\n",
    "# Calculate scores to obtain PC\n",
    "scores = pd.DataFrame(pca_data, columns=[\"PC_\"+str(i) for i in range(1,5)])\n",
    "\n",
    "\n",
    "\n",
    "print(\"=\"*100)\n",
    "print(\"Eigenvalues:\\n\",np.round(eigenvalues,3))\n",
    "print(\"\\nEigenvectors:\\n\", np.round(eigenvectors,3))\n",
    "print(\"\\nPercentage of explained variance: \\n\",np.round(eigenvalues / eigenvalues.sum(),3))\n",
    "print(\"\\nScores of principal components:\\n\", scores.head(3))\n",
    "print(\"=\"*100)"
   ]
  },
  {
   "cell_type": "markdown",
   "id": "860d4172",
   "metadata": {},
   "source": [
    "### 4] Correlación entre PC_i y X_j\n",
    "    - Alternativamente, en vez de hacer unitarios a los eigenvectores, se puede modificar su norma para que sea igual a la varianza explicada por la PC_i. Los nuevos eigenvectores se calculan como:\n",
    "    eigenvector_corr = eigenvector_unit * eigenvalue^0.5\n",
    "    \n",
    "    - Los nuevos eigenvectores tienen una nueva interpretabilidad, ya que la componente j describe la correlación de Pearson con la variable j. Es otras palabras, la componente eigenvector_11 será igual a la correlación entre PC_1 y X_1.\n",
    "    \n",
    "    - Estos nuevos factores se llaman loadings."
   ]
  },
  {
   "cell_type": "code",
   "execution_count": 76,
   "id": "6a393beb",
   "metadata": {},
   "outputs": [
    {
     "name": "stdout",
     "output_type": "stream",
     "text": [
      "====================================================================================================\n",
      "Loadings:\n",
      "[[ 0.89   0.361 -0.276 -0.038]\n",
      " [-0.46   0.883  0.094  0.018]\n",
      " [ 0.992  0.023  0.054  0.115]\n",
      " [ 0.965  0.064  0.243 -0.075]]\n",
      "\n",
      "Correlation PC_1 vs variables:\n",
      "[ 0.89  -0.46   0.992  0.965]\n",
      "====================================================================================================\n"
     ]
    }
   ],
   "source": [
    "# Compute loadings\n",
    "loadings = eigenvectors * eigenvalues**0.5\n",
    "\n",
    "# Calculate correlation between PC1 and variables\n",
    "corr = [np.corrcoef(trans_data[features[i]], scores[\"PC_1\"])[0,1] for i in range(4)]\n",
    "\n",
    "# Output\n",
    "print(\"=\"*100)\n",
    "print(\"Loadings:\")\n",
    "print(np.round(loadings,3))\n",
    "print(\"\\nCorrelation PC_1 vs variables:\")\n",
    "print(np.round(corr,3))\n",
    "print(\"=\"*100)"
   ]
  },
  {
   "cell_type": "markdown",
   "id": "9db9a605",
   "metadata": {},
   "source": [
    "### 4] Biplot\n",
    "\n",
    "    - El biplot es uno de los gráficos que más información arrojan sobre el PCA.\n",
    "    - Las unidades de estudio se agrupan en el plano de las PC, lo que permite definir clusters con cualidades similares.\n",
    "        Por ejemplo, la especie de la planta\n",
    "\n",
    "    - Los vectores representan cada uno a una de las variables, el tamaño del vector es proporcional a la varianza que aportan a cada dimensión\n",
    "        Por ejemplo, sep_wid tiene una componente pequeña para PC_1, pero muy grande para PC_2, o sea que es muy importante para explicar la segunda, pero no la primera\n",
    "\n",
    "    - La colinealidad y dirección de los vectores representan la relación entre variables\n",
    "        Por ejemplo, pet_wid está muy correlacionado con pet_len (ángulo entre ellos pequeño) positivamente (apuntan a la misma dirección), pero no están correlacionado con sep_wid, pues el ángulo que forman entre ellos es de casi 90 gradosl."
   ]
  },
  {
   "cell_type": "code",
   "execution_count": 86,
   "id": "8b6119a6",
   "metadata": {
    "scrolled": false
   },
   "outputs": [
    {
     "data": {
      "image/png": "[encoded data removed]",
      "text/plain": [
       "<Figure size 444.75x360 with 1 Axes>"
      ]
     },
     "metadata": {
      "needs_background": "light"
     },
     "output_type": "display_data"
    }
   ],
   "source": [
    "import matplotlib.pyplot as plt\n",
    "import seaborn as sns\n",
    "\n",
    "pc_0 = scores[\"PC_1\"]\n",
    "pc_0 = (pc_0 - pc_0.min()) / (pc_0.max() - pc_0.min())*2 - 1\n",
    "pc_1 = scores[\"PC_2\"]\n",
    "pc_1 = (pc_1 - pc_1.min()) / (pc_1.max() - pc_1.min())*2 - 1\n",
    "\n",
    "# Plot scores of each unit\n",
    "#plt.scatter(pc_0, pc_1, alpha=0.5, color=\"gray\")\n",
    "sns.relplot(x=pc_0, y=pc_1, hue=df_data[\"class\"], alpha=0.6)\n",
    "\n",
    "\n",
    "# Plot eigenvectors\n",
    "for i in range(4):\n",
    "    plt.arrow(0, 0, eigenvectors[i,0], eigenvectors[i,1], head_width=0.05, color=\"red\")\n",
    "    plt.text(eigenvectors[i,0]*1.1, eigenvectors[i,1]*1.1, features[i])\n"
   ]
  }
 ],
 "metadata": {
  "kernelspec": {
   "display_name": "Python 3 (ipykernel)",
   "language": "python",
   "name": "python3"
  },
  "language_info": {
   "codemirror_mode": {
    "name": "ipython",
    "version": 3
   },
   "file_extension": ".py",
   "mimetype": "text/x-python",
   "name": "python",
   "nbconvert_exporter": "python",
   "pygments_lexer": "ipython3",
   "version": "3.7.11"
  }
 },
 "nbformat": 4,
 "nbformat_minor": 5
}
