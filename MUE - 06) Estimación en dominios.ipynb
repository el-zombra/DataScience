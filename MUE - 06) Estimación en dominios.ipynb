{
 "cells": [
  {
   "cell_type": "markdown",
   "id": "60041a04",
   "metadata": {},
   "source": [
    "# Estimación por dominios\n",
    "    - Los dominios se consideran subgrupos de la población. Por ejemplo, hombres y mujeres. En la estimación por dominio se toma en cuenta que la muestra obtenida quizá no mantenga la misma proporciónde elementos de cada dominio. Con lo cuál se consigue obtener estimaciones separadas para cada dominio.\n",
    "    \n",
    "    - Como ejemplo, una población que cuente con 70% mujeres y 30% hombres puede ser muestreada aleatoriamente y la muestra quizá contenga 50% hombres y mujeres, por lo que las inferencias de cada subgrupo no sea la adecuada. Adicionalmente, considerar cada subgrupo como una población separada, podría no arrojar los resultados correctos\n",
    "    \n",
    "    - Se utiliza cuando solo se tiene el marco de la población entera, pero no se tiene conocimiento de los elementos específicos de cada dominio"
   ]
  },
  {
   "cell_type": "markdown",
   "id": "620c55f9",
   "metadata": {},
   "source": [
    "### Conclusiones\n",
    "    - Los resultados de aplicar este método no siempre serán mejorar la precisión los estimadores, debido a que se tiene que considerar que al muestrear, no siempre se guardará la misma proporción de elementos en el dominio\n",
    "        Por ejemplo: El estimador mejora para los hombres (65% de la población), mientras que se vuelve más grande para las mujeres (35% de la población)\n",
    "        \n",
    "        -n_d/n se aproxima a N_d/N cuando la muestra es grande. En este caso hacer estimaciones filtrando se aproxima a lo que se obtiene al usar la estimación en dominios"
   ]
  },
  {
   "cell_type": "markdown",
   "id": "53d5b62c",
   "metadata": {},
   "source": [
    "### 1] Definir una población"
   ]
  },
  {
   "cell_type": "code",
   "execution_count": 58,
   "id": "52786a4a",
   "metadata": {},
   "outputs": [],
   "source": [
    "import pandas as pd\n",
    "import numpy as np\n",
    "\n",
    "# Settings\n",
    "N = 1000\n",
    "n = 30\n",
    "P = 0.35\n",
    "confidence = 0.95\n",
    "\n",
    "# Define domain according to theoretical proportion\n",
    "sex = np.where(np.random.uniform(size=N)<P, 1, 0)\n",
    "\n",
    "# Consider different means deppending on sex\n",
    "score = np.random.normal(loc=6.5, scale=1.5, size=N) + (sex==0)\n",
    "money = np.random.normal(loc=200, scale=50, size=N) + 100*(sex==1)\n",
    "\n",
    "# Put together data into a df\n",
    "df_population = pd.DataFrame(np.vstack([score, money, sex]).T, columns=[\"score\", \"money\", \"sex\"])\n",
    "\n",
    "\n",
    "\n",
    "# Select a random sample --- --- --- --- --- --- --- --- --- --- --- --- --- --- --- --- --- --- --- --- --- \n",
    "\n",
    "# Create auxiliary column to randomize the sample\n",
    "df_population[\"mask\"] = np.random.uniform(size=N)\n",
    "\n",
    "# Sort and select elements randomly\n",
    "df_sample = df_population.sort_values(by=[\"mask\"])[:n]\n",
    "df_sample.drop([\"mask\"], axis=1, inplace=True)\n",
    "\n",
    "# Drop auxiliary column\n",
    "df_population.drop([\"mask\"], axis=1, inplace=True)"
   ]
  },
  {
   "cell_type": "markdown",
   "id": "089d89ef",
   "metadata": {},
   "source": [
    "### 2] Estimación sin dominios\n",
    "    - En la primera estimación no se utiliza el dominio y simplemente se hace un filter para obtener una muestra sin considerar la proporción real de elementos que pertenecen a éste"
   ]
  },
  {
   "cell_type": "code",
   "execution_count": 59,
   "id": "17e55c8d",
   "metadata": {
    "scrolled": true
   },
   "outputs": [
    {
     "name": "stdout",
     "output_type": "stream",
     "text": [
      "La media real de score en las mujeres es:\n",
      " 7.54\n",
      "\n",
      "La estimación de la media es\n",
      " 7.76\n",
      "\n",
      "Con un intervalo de confianza\n",
      " [6.72 8.8 ]\n"
     ]
    }
   ],
   "source": [
    "# Analysis done using female as the domain of interest\n",
    "from scipy.stats import t\n",
    "\n",
    "# Estimation by filtering the students in the domain\n",
    "n_d = df_sample[\"sex\"].sum()\n",
    "mean = df_sample[\"score\"][df_sample[\"sex\"]==0].mean()\n",
    "var = df_sample[\"score\"][df_sample[\"sex\"]==0].var(ddof=1)\n",
    "mean_var = (1-n_d/N) * var/n_d\n",
    "mean_std = mean_var**0.5\n",
    "mean_interval = mean + mean_std*t(df=n-1).ppf((0.5-confidence/2, 0.5+confidence/2))\n",
    "\n",
    "# Results\n",
    "print(\"La media real de score en las mujeres es:\\n\",round(df_population[\"score\"][sex==0].mean(),2))\n",
    "print(\"\\nLa estimación de la media es\\n\",round(mean,2))\n",
    "print(\"\\nCon un intervalo de confianza\\n\",np.round(mean_interval,2))"
   ]
  },
  {
   "cell_type": "markdown",
   "id": "0a60b09f",
   "metadata": {},
   "source": [
    "### 3] Estimación por dominios\n",
    "    - Se define:\n",
    "        n: tamaño de muestra\n",
    "        n_d: elementos del dominio dentro de la muestra\n",
    "        x_i = 1 if el elemento pertenece al dominio else 0\n",
    "            De otra manera:\n",
    "            sum(x_i) = n_d\n",
    "        Y: variable de interés\n",
    "        \n",
    "    - Se estima la media del dominio\n",
    "        mean_d = sum(y_i if i pertenece al dominio else 0) / sum(x_i)\n",
    "            De otra manera:\n",
    "            mean_d = sum(y_i) / n_d para los elementos en el dominio\n",
    "\n",
    "    - La varianza del estimador de media es:\n",
    "        var_mean_d = (1-n/N) * n^2/(n*n_d^2) * 1/(n-1) * sum( (y_i - mean_d^2) )\n",
    "        donde:\n",
    "            S_d^2: varianza de los elementos muestreados en el dominio"
   ]
  },
  {
   "cell_type": "code",
   "execution_count": 60,
   "id": "8de1870c",
   "metadata": {
    "scrolled": true
   },
   "outputs": [
    {
     "name": "stdout",
     "output_type": "stream",
     "text": [
      "La media real de score en las mujeres es:\n",
      " 7.54\n",
      "\n",
      "La estimación de la media es\n",
      " 7.76\n",
      "\n",
      "Con un intervalo de confianza\n",
      " [6.67 8.85]\n"
     ]
    }
   ],
   "source": [
    "# Estimation by filtering the students in the domain\n",
    "n_d = df_sample[\"sex\"].sum()\n",
    "mean_d = df_sample[\"score\"][df_sample[\"sex\"]==0].mean()\n",
    "mean_d_var = (1-n/N) * n**2/(n*n_d**2) * 1/(n-1) * ((df_sample[\"score\"][df_sample[\"sex\"]==0] - mean_d)**2).sum()\n",
    "mean_d_std = mean_d_var**0.5\n",
    "mean_d_interval = mean_d + mean_d_std*t(df=n-1).ppf((0.5-confidence/2, 0.5+confidence/2))\n",
    "\n",
    "# Results\n",
    "print(\"La media real de score en las mujeres es:\\n\",round(df_population[\"score\"][sex==0].mean(),2))\n",
    "print(\"\\nLa estimación de la media es\\n\",round(mean_d,2))\n",
    "print(\"\\nCon un intervalo de confianza\\n\",np.round(mean_d_interval,2))"
   ]
  }
 ],
 "metadata": {
  "kernelspec": {
   "display_name": "Python 3 (ipykernel)",
   "language": "python",
   "name": "python3"
  },
  "language_info": {
   "codemirror_mode": {
    "name": "ipython",
    "version": 3
   },
   "file_extension": ".py",
   "mimetype": "text/x-python",
   "name": "python",
   "nbconvert_exporter": "python",
   "pygments_lexer": "ipython3",
   "version": "3.7.11"
  }
 },
 "nbformat": 4,
 "nbformat_minor": 5
}
