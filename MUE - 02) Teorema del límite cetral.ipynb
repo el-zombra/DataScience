{
 "cells": [
  {
   "cell_type": "markdown",
   "id": "27ad41d0",
   "metadata": {},
   "source": [
    "# Teorema del límite central\n",
    "    - El teorema establece que dada cualquier distribución de una serie de datos, cuando se obtiene algún estadístico de un remuestreo, los valores obtenidos para dicho estadístico seguirán una distribución normal con la cual se pueden establecer intervalos de confianza."
   ]
  },
  {
   "cell_type": "markdown",
   "id": "549f41ec",
   "metadata": {},
   "source": [
    "### 1] Run multiple distributions to test central limit theorem"
   ]
  },
  {
   "cell_type": "code",
   "execution_count": null,
   "id": "76aa22e1",
   "metadata": {},
   "outputs": [
    {
     "name": "stdout",
     "output_type": "stream",
     "text": [
      "Uniform: Accepted - pval: 0.579\n",
      "Normal: Accepted - pval: 0.811\n",
      "Lognormal: Not accepted - pval: 0.002\n",
      "Bernoulli: Not accepted - pval: 0.014\n"
     ]
    }
   ],
   "source": [
    "import numpy as np\n",
    "import matplotlib.pyplot as plt\n",
    "from scipy.stats import shapiro\n",
    "\n",
    "# Settings\n",
    "N = 1000\n",
    "n = 100\n",
    "t = 250\n",
    "\n",
    "# Store results\n",
    "results = np.zeros([4,t])\n",
    "\n",
    "\n",
    "\n",
    "# 1] Uniform distribution\n",
    "from scipy.stats import uniform\n",
    "\n",
    "# Population\n",
    "data = uniform.rvs(size=N)\n",
    "\n",
    "# Resample t times\n",
    "for i in range(t):\n",
    "    mask = uniform.rvs(size=N)\n",
    "    data.shape\n",
    "    temp = np.stack((data, mask), axis=1)\n",
    "    results[0, i] = temp[temp[:, 1].argsort()][:n,0].mean()\n",
    "\n",
    "# Print results\n",
    "pval_norm = shapiro(results[0])[1]\n",
    "legend = \"Accepted\" if pval_norm > 0.05 else \"Not accepted\"\n",
    "print(\"Uniform: \"+legend+\" - pval: \"+str(round(pval_norm,3)))\n",
    "    \n",
    "    \n",
    "    \n",
    "# 2] Normal distribution\n",
    "from scipy.stats import norm\n",
    "\n",
    "# Population\n",
    "data = norm.rvs(size=N)\n",
    "\n",
    "# Resample t times\n",
    "for i in range(t):\n",
    "    mask = uniform.rvs(size=N)\n",
    "    data.shape\n",
    "    temp = np.stack((data, mask), axis=1)\n",
    "    results[1, i] = temp[temp[:, 1].argsort()][:n,0].mean()\n",
    "\n",
    "# Print results\n",
    "pval_norm = shapiro(results[1])[1]\n",
    "legend = \"Accepted\" if pval_norm > 0.05 else \"Not accepted\"\n",
    "print(\"Normal: \"+legend+\" - pval: \"+str(round(pval_norm,3)))\n",
    "  \n",
    "    \n",
    "    \n",
    "# 3] Lognormal distribution\n",
    "from scipy.stats import lognorm\n",
    "\n",
    "# Population\n",
    "data = lognorm.rvs(1, size=1000)\n",
    "\n",
    "# Resample t times\n",
    "for i in range(t):\n",
    "    mask = uniform.rvs(size=N)\n",
    "    data.shape\n",
    "    temp = np.stack((data, mask), axis=1)\n",
    "    results[2, i] = temp[temp[:, 1].argsort()][:n,0].mean()\n",
    "    \n",
    "# Print results\n",
    "pval_norm = shapiro(results[2])[1]\n",
    "legend = \"Accepted\" if pval_norm > 0.05 else \"Not accepted\"\n",
    "print(\"Lognormal: \"+legend+\" - pval: \"+str(round(pval_norm,3)))\n",
    "\n",
    "  \n",
    "    \n",
    "# 4] Bernoulli's distribution\n",
    "from scipy.stats import bernoulli\n",
    "\n",
    "# Population\n",
    "data = bernoulli.rvs(0.25, size=N)\n",
    "\n",
    "# Resample t times\n",
    "for i in range(t):\n",
    "    mask = uniform.rvs(size=N)\n",
    "    data.shape\n",
    "    temp = np.stack((data, mask), axis=1)\n",
    "    results[3, i] = temp[temp[:, 1].argsort()][:n,0].mean()\n",
    "\n",
    "# Print results\n",
    "pval_norm = shapiro(results[3])[1]\n",
    "legend = \"Accepted\" if pval_norm > 0.05 else \"Not accepted\"\n",
    "print(\"Bernoulli: \"+legend+\" - pval: \"+str(round(pval_norm,3)))\n",
    "\n",
    "\n",
    "k = input(\"Display histogram (1-4): \")\n",
    "plt.hist(results[int(k)-1])"
   ]
  }
 ],
 "metadata": {
  "kernelspec": {
   "display_name": "Python 3 (ipykernel)",
   "language": "python",
   "name": "python3"
  },
  "language_info": {
   "codemirror_mode": {
    "name": "ipython",
    "version": 3
   },
   "file_extension": ".py",
   "mimetype": "text/x-python",
   "name": "python",
   "nbconvert_exporter": "python",
   "pygments_lexer": "ipython3",
   "version": "3.7.11"
  }
 },
 "nbformat": 4,
 "nbformat_minor": 5
}
