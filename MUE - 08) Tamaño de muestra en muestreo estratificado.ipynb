{
 "cells": [
  {
   "cell_type": "markdown",
   "id": "2edf8dfe",
   "metadata": {},
   "source": [
    "# Tamaño de muestra con estratos\n",
    "    - La pregunta principal es cómo repartir n entre los L estratos. Existen tres factores principales por considerar para responder esta pregunta.\n",
    "        - La varianza dentro de cada estrato\n",
    "        - La proporción N_h/N\n",
    "        - El costo de obtener información en cada estrato C_h\n",
    "        \n",
    "    - Primero se calcula n, que también depende de dichos factores, para después hacer la proporción n_h para cada estrato\n",
    "    \n",
    "    - Se define una función de costo:\n",
    "        C = C_0 + sum[for h in L](C_h * n_h)\n",
    "            donde:\n",
    "            C: Costo total\n",
    "            C_0: Costo fijo\n",
    "            C_h: Costo de obtener información de una unidad en el estrato h"
   ]
  },
  {
   "cell_type": "markdown",
   "id": "0adc22c6",
   "metadata": {},
   "source": [
    "### Conclusiones\n",
    "    - Realizar una prueba piloto es esencial para distribuir correctamente el tamañó dentro de los estratos."
   ]
  },
  {
   "cell_type": "markdown",
   "id": "01d738a5",
   "metadata": {},
   "source": [
    "### 1] Definir una población\n",
    "    - Notación:\n",
    "        L: Número de estratos\n",
    "        N: Tamaño poblacional\n",
    "        N_h: Unidades poblacionales dentro de cada estrato\n",
    "        Y[h,i]: Observación en el estrato h de la unidad i\n",
    "    \n",
    "    - Los parámetros como la media, varianza y total se calculan por separado para cada estrato como si fueran una población por separado. Para los cálculos poblacionales, los elementos son considerados con el mismo peso de importancia.  "
   ]
  },
  {
   "cell_type": "code",
   "execution_count": 308,
   "id": "e59f7cde",
   "metadata": {},
   "outputs": [
    {
     "name": "stdout",
     "output_type": "stream",
     "text": [
      "====================================================================================================\n",
      "Parámetros poblacionales\n",
      "\n",
      "La media de calificación es:  6.89\n",
      "El total de dinero es:  730365\n",
      "La proporción hombres/mujeres es:  0.56\n",
      "====================================================================================================\n"
     ]
    },
    {
     "data": {
      "image/png": "[encoded data removed]",
      "text/plain": [
       "<Figure size 432x288 with 1 Axes>"
      ]
     },
     "metadata": {
      "needs_background": "light"
     },
     "output_type": "display_data"
    }
   ],
   "source": [
    "import pandas as pd\n",
    "import numpy as np\n",
    "import seaborn as sns\n",
    "\n",
    "# Define the strata\n",
    "# ... 600 is the total population, while the other elements in the list\n",
    "# ... represent the units within each strata\n",
    "# ... sample size is initially defined only for m.a.s.\n",
    "L = 3\n",
    "N = [600, 300, 200, 100]\n",
    "n = [75, 0, 0, 0]\n",
    "cost = [0, 20, 15, 10]\n",
    "confidence = 0.95\n",
    "\n",
    "# Create DF outlining the strata for each unit\n",
    "strata = np.repeat([1,2,3], N[1:])\n",
    "df_population = pd.DataFrame(strata, columns=[\"strata\"])\n",
    "\n",
    "# Define score variable\n",
    "score =                  np.random.normal(loc=6,   scale=0.25, size=N[1])\n",
    "score = np.append(score, np.random.normal(loc=7.5, scale=0.75, size=N[2]))\n",
    "score = np.append(score, np.random.normal(loc=8.5, scale=1.50, size=N[3]))\n",
    "score = np.where(score>10, 10, score)\n",
    "score = np.where(score< 0,  0, score)\n",
    "df_population[\"score\"] = score\n",
    "\n",
    "# Define money variable\n",
    "money =                  np.random.normal(loc=1500, scale=300, size=N[1])\n",
    "money = np.append(money, np.random.normal(loc=1000, scale=200, size=N[2]))\n",
    "money = np.append(money, np.random.normal(loc= 800, scale=100, size=N[3]))\n",
    "money = np.where(money<0, 0, money)\n",
    "df_population[\"money\"] = money\n",
    "\n",
    "# Define sex variable\n",
    "sex =                (0.50 < np.random.uniform(size=N[1]))\n",
    "sex = np.append(sex, (0.25 < np.random.uniform(size=N[2])))\n",
    "sex = np.append(sex, (0.75 < np.random.uniform(size=N[3])))\n",
    "df_population[\"sex\"] = sex.astype(int)\n",
    "\n",
    "# Graph score data\n",
    "sns.set_palette(\"Set2\")\n",
    "sns.boxplot(data=df_population, x=\"score\", y=df_population[\"strata\"].astype(str))\n",
    "\n",
    "# Output\n",
    "print(\"=\"*100)\n",
    "print(\"Parámetros poblacionales\\n\")\n",
    "print(\"La media de calificación es: \", round(df_population[\"score\"].mean(axis=0),2))\n",
    "print(\"El total de dinero es: \", int(df_population[\"money\"].sum(axis=0)))\n",
    "print(\"La proporción hombres/mujeres es: \", round(df_population[\"sex\"].mean(axis=0),2))\n",
    "print(\"=\"*100)"
   ]
  },
  {
   "cell_type": "markdown",
   "id": "157e84df",
   "metadata": {},
   "source": [
    "### 2] Distribuir n_h dado una n fija\n",
    "    - Existen tres formas de distribuir n a través de los L estratos. Cada una implica considerar diferentes factores ente el costo (C), la varianza (S) y el tamaño poblacional (N)\n",
    "    \n",
    "    - Se busca minimizar V(mean) de la variable objetivo\n",
    "    \n",
    "    - Distribución óptima (C, S, N). Los tamañños muestrales n_h se calculan como:\n",
    "        n_h = n * N_h*S_h*C_h^(-0.5) / sum[for k in L](N_k*S_k*C_k^(-0.5))\n",
    "            donde:\n",
    "            N_h: Tamaño poblacional en el estrato h\n",
    "            S_h: Desviación estándar de la variable objetivo en el estrato h\n",
    "            C_h: Costo de obtener información en el estrato h\n",
    "            \n",
    "    - Distribución de Neyman (S, N). Considera que el costo es constante para cada estrato.\n",
    "        n_h = n * N_h*S_h / sum[for k in L](N_k*S_k)\n",
    "        \n",
    "    - Distribución proporcional (N). Solo considera el tamaño del estrato dentro de la población\n",
    "        n_h = n * N_h / sum[for k in L](N_k)\n",
    "    "
   ]
  },
  {
   "cell_type": "code",
   "execution_count": 310,
   "id": "891317ad",
   "metadata": {},
   "outputs": [
    {
     "name": "stdout",
     "output_type": "stream",
     "text": [
      "====================================================================================================\n",
      "Distribución óptima:\n",
      " [ 7 29 37]  |  std(mean): 0.07\n",
      "\n",
      "Distribución de Neyman:\n",
      " [ 9 32 33]  |  std(mean): 0.07\n",
      "\n",
      "Distribución proporcional:\n",
      " [37 25 12]  |  std(mean): 0.08\n",
      "====================================================================================================\n"
     ]
    }
   ],
   "source": [
    "# Analysis is done to estimate mean of score\n",
    "print(\"=\"*100)\n",
    "\n",
    "# Run a pilot sample with 20 elements within each strata\n",
    "std = [0, 0, 0, 0]\n",
    "strata = df_population[\"strata\"]\n",
    "for h in range(1,L+1):\n",
    "    std[h] = df_population[\"score\"][strata==h].sample(n=10).std(0, ddof=1)\n",
    "\n",
    "\n",
    "    \n",
    "# Optimal distribution of sample size\n",
    "for h in range(1,L+1):\n",
    "    n[h] = n[0] * N[h]*std[h]*cost[h]**-0.5 / sum(\n",
    "                  N[k]*std[k]*cost[k]**-0.5 for k in range(1,L+1))\n",
    "n = np.ceil(n).astype(int)\n",
    "\n",
    "# Select sample\n",
    "df_sample = pd.DataFrame()\n",
    "strata = df_population[\"strata\"]\n",
    "for h in range(1, +1):\n",
    "    df_temporal = df_population[strata==h].sample(n=n[h])\n",
    "    df_sample = pd.concat([df_sample, df_temporal])\n",
    "# Calculate std of mean estimator\n",
    "strata = df_sample[\"strata\"]\n",
    "mean_var = sum( (N[h]/N[0])**2 * (1-n[h]/N[h]) * 1/n[h] *   \n",
    "               df_sample[\"score\"][strata==h].var(0, ddof=1) for h in range(1,L+1))\n",
    "mean_std = mean_var**0.5\n",
    "print(\"Distribución óptima:\\n\",n[1:],\" | \",\"std(mean):\",round(mean_std,2))\n",
    "\n",
    "\n",
    "\n",
    "\n",
    "# Neyman distribution\n",
    "for h in range(1,L+1):\n",
    "    n[h] = n[0] * N[h]*std[h] / sum(\n",
    "                  N[k]*std[k] for k in range(1,L+1))\n",
    "n = np.ceil(n).astype(int)\n",
    "\n",
    "# Select sample\n",
    "df_sample = pd.DataFrame()\n",
    "strata = df_population[\"strata\"]\n",
    "for h in range(1,L+1):\n",
    "    df_temporal = df_population[strata==h].sample(n=n[h])\n",
    "    df_sample = pd.concat([df_sample, df_temporal])\n",
    "# Calculate std of mean estimator\n",
    "strata = df_sample[\"strata\"]\n",
    "mean_var = sum( (N[h]/N[0])**2 * (1-n[h]/N[h]) * 1/n[h] *   \n",
    "               df_sample[\"score\"][strata==h].var(0, ddof=1) for h in range(1,L+1))\n",
    "mean_std = mean_var**0.5\n",
    "print(\"\\nDistribución de Neyman:\\n\",n[1:],\" | \",\"std(mean):\",round(mean_std,2))\n",
    "\n",
    "\n",
    "\n",
    "# Proportional distribution\n",
    "for h in range(1,L+1):\n",
    "    n[h] = n[0] * N[h] / sum(\n",
    "                  N[k] for k in range(1,L+1))\n",
    "n = np.ceil(n).astype(int)\n",
    "\n",
    "# Select sample\n",
    "df_sample = pd.DataFrame()\n",
    "strata = df_population[\"strata\"]\n",
    "for h in range(1,L+1):\n",
    "    df_temporal = df_population[strata==h].sample(n=n[h])\n",
    "    df_sample = pd.concat([df_sample, df_temporal])\n",
    "# Calculate std of mean estimator\n",
    "strata = df_sample[\"strata\"]\n",
    "mean_var = sum( (N[h]/N[0])**2 * (1-n[h]/N[h]) * 1/n[h] *   \n",
    "               df_sample[\"score\"][strata==h].var(0, ddof=1) for h in range(1,L+1))\n",
    "mean_std = mean_var**0.5\n",
    "print(\"\\nDistribución proporcional:\\n\",n[1:],\" | \",\"std(mean):\",round(mean_std,2))\n",
    "\n",
    "\n",
    "\n",
    "# End block\n",
    "print(\"=\"*100)"
   ]
  },
  {
   "cell_type": "markdown",
   "id": "09225448",
   "metadata": {},
   "source": [
    "### Definir tamaño de muestra total\n",
    "    - De manera general, se puede optimizar el costo del muestreo cuando se tiene un presupuesto fijo, con lo que se obtiene:\n",
    "        n = (c-c_0) * sum[h in L](N_h*s_h / c_h^0.5) / sum[h in L](N_h*s_h * c_h^0.5)\n",
    "            donde:\n",
    "            c: Presupuesto total para la encuensta\n",
    "            c_0: Costos fijos\n",
    "            c_h: Costo de obtener información en el estrato h\n",
    "            N_h: Tamaño poblacional del estrato h\n",
    "            s_h: Estimador de la desviación estándar en el estrato h\n",
    "            \n",
    "    - Media. Para establecer una precisión mientras que se optimiza (C,S,N) se utiliza:\n",
    "        n = sum[for h in L](N_h*s_h*c_h * sum[for k in L](N_k*s_k/c_k))\n",
    "            / ((N*delta/z)^2 + sum[for h in L](N_h*s_h))\n",
    "            donde:\n",
    "            delta: Precisión deseada en el estimador\n",
    "            z: Inversa de la normal estándar para el nivel de confianza desado\n",
    "            \n",
    "    - Total. Para establecer una precisión mientras que se optimiza (C,S,N) se utiliza:\n",
    "        n = sum[for h in L](N_h*s_h*c_h * sum[for k in L](N_k*s_k/c_k))\n",
    "            / ((N*delta/z)^2 + sum[for h in L](N_h*s_h))\n",
    "            donde:\n",
    "            delta: Precisión deseada en el estimador\n",
    "            z: Inversa de la normal estándar para el nivel de confianza desado\n",
    "        \n"
   ]
  },
  {
   "cell_type": "code",
   "execution_count": 341,
   "id": "eba026cd",
   "metadata": {},
   "outputs": [
    {
     "name": "stdout",
     "output_type": "stream",
     "text": [
      "====================================================================================================\n",
      "Optimizando costo total de la encuesta\n",
      "n = 59\n",
      "\n",
      "Media con precisión y minimizando costo\n",
      "n = 51\n",
      "\n",
      "Total con precisión y minimizando costo\n",
      "n = 49\n",
      "====================================================================================================\n"
     ]
    }
   ],
   "source": [
    "from scipy.stats import norm\n",
    "print(\"=\"*100)\n",
    "\n",
    "# Define sample size by optimizing survey cost\n",
    "cost[0] = 200\n",
    "budget = 1200\n",
    "n = (budget-cost[0]) * sum(N[h]*std[h]/cost[h]**0.5 for h in range(1,L+1)) / sum(\n",
    "                           N[h]*std[h]*cost[h]**0.5for h in range(1,L+1))\n",
    "n = np.ceil(n).astype(int)\n",
    "print(\"Optimizando costo total de la encuesta\\nn =\",n)\n",
    "\n",
    "\n",
    "\n",
    "\n",
    "# Define n with desired precision and minimizing cost\n",
    "precision = 0.15\n",
    "z = norm.ppf(0.5+confidence/2)\n",
    "strata = df_population[\"strata\"]\n",
    "for h in range(1,L+1):\n",
    "    std[h] = df_population[\"score\"][strata==h].sample(n=10).std(0, ddof=1)\n",
    "n = sum(N[h]*std[h]*cost[h]**0.5 * sum(N[k]*std[k]/cost[k]**0.5\n",
    "                                   for k in range(1,L+1))\n",
    "    for h in range(1,L+1)) / (\n",
    "    (N[0]*precision/z)**2 + sum(N[h]*std[h]**2 for h in range(1,L+1)))\n",
    "n = np.ceil(n).astype(int)\n",
    "print(\"\\nMedia con precisión y minimizando costo\\nn =\",n)\n",
    "\n",
    "\n",
    "\n",
    "# Define n with desired precision and minimizing cost\n",
    "precision = 50000\n",
    "z = norm.ppf(0.5+confidence/2)\n",
    "strata = df_population[\"strata\"]\n",
    "for h in range(1,L+1):\n",
    "    std[h] = df_population[\"money\"][strata==h].sample(n=10).std(0, ddof=1)\n",
    "n = sum(N[h]*std[h]*cost[h]**0.5 * sum(N[k]*std[k]/cost[k]**0.5\n",
    "                                   for k in range(1,L+1))\n",
    "    for h in range(1,L+1)) / (\n",
    "    (precision/z)**2 + sum(N[h]*std[h]**2 for h in range(1,L+1)))\n",
    "n = np.ceil(n).astype(int)\n",
    "print(\"\\nTotal con precisión y minimizando costo\\nn =\",n)\n",
    "\n",
    "\n",
    "\n",
    "# End block\n",
    "print(\"=\"*100)"
   ]
  },
  {
   "cell_type": "code",
   "execution_count": 312,
   "id": "fccba989",
   "metadata": {},
   "outputs": [
    {
     "data": {
      "text/plain": [
       "730365.2116808399"
      ]
     },
     "execution_count": 312,
     "metadata": {},
     "output_type": "execute_result"
    }
   ],
   "source": [
    "df_population[\"money\"].sum(0)"
   ]
  }
 ],
 "metadata": {
  "kernelspec": {
   "display_name": "Python 3 (ipykernel)",
   "language": "python",
   "name": "python3"
  },
  "language_info": {
   "codemirror_mode": {
    "name": "ipython",
    "version": 3
   },
   "file_extension": ".py",
   "mimetype": "text/x-python",
   "name": "python",
   "nbconvert_exporter": "python",
   "pygments_lexer": "ipython3",
   "version": "3.7.11"
  }
 },
 "nbformat": 4,
 "nbformat_minor": 5
}
