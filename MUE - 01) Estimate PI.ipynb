{
 "cells": [
  {
   "cell_type": "markdown",
   "id": "7232e951",
   "metadata": {},
   "source": [
    "# Sample size effect in the estimation of PI\n",
    "\n",
    "Written by: Eduardo Tapia"
   ]
  },
  {
   "cell_type": "markdown",
   "id": "d1ddc2aa",
   "metadata": {},
   "source": [
    "### 1] Estimate PI via Montecarlo (quarter unit circle)"
   ]
  },
  {
   "cell_type": "code",
   "execution_count": 3,
   "id": "f2999102",
   "metadata": {
    "scrolled": true
   },
   "outputs": [
    {
     "name": "stdout",
     "output_type": "stream",
     "text": [
      "Computing for N = 10\n",
      "Computing for N = 20\n",
      "Computing for N = 30\n",
      "Computing for N = 40\n",
      "Computing for N = 50\n",
      "Computing for N = 60\n",
      "Computing for N = 70\n",
      "Computing for N = 80\n",
      "Computing for N = 90\n",
      "Computing for N = 100\n",
      "Computing for N = 200\n",
      "Computing for N = 300\n",
      "Computing for N = 400\n",
      "Computing for N = 500\n",
      "Computing for N = 600\n",
      "Computing for N = 700\n",
      "Computing for N = 800\n",
      "Computing for N = 900\n",
      "Computing for N = 1000\n",
      "Computing for N = 2000\n",
      "Computing for N = 3000\n",
      "Computing for N = 4000\n",
      "Computing for N = 5000\n",
      "Computing for N = 6000\n",
      "Computing for N = 7000\n",
      "Computing for N = 8000\n",
      "Computing for N = 9000\n",
      "Computing for N = 10000\n",
      "Computing for N = 20000\n",
      "Computing for N = 30000\n",
      "Computing for N = 40000\n",
      "Computing for N = 50000\n",
      "Computing for N = 60000\n",
      "Computing for N = 70000\n",
      "Computing for N = 80000\n",
      "Computing for N = 90000\n",
      "Computing for N = 100000\n",
      "Done!\n"
     ]
    }
   ],
   "source": [
    "import math\n",
    "import numpy as np\n",
    "from matplotlib import pyplot as plt\n",
    "\n",
    "# Number of times the experiment for a certain sample size is performed\n",
    "repetitions = 500\n",
    "\n",
    "# Sample sizes to compute\n",
    "# ... [10, 20, .., 100, 200, ..., 1000, 2000]\n",
    "size = [10]\n",
    "for i in range(1,37):\n",
    "    size += [size[i-1] + 10**math.floor(np.log10(size[i-1]))]\n",
    "\n",
    "# Create mx to store results\n",
    "abs_error = np.zeros([len(size), repetitions])\n",
    "\n",
    "# Set up iterations\n",
    "for i in range(len(size)):\n",
    "    print(\"Computing for N = \"+str(size[i]))\n",
    "    for j in range(repetitions):\n",
    "        \n",
    "        # Generate random numbers\n",
    "        N = size[i]\n",
    "        series = np.random.rand(2,N)\n",
    "\n",
    "        # Determine how many points fall within quarter-circle\n",
    "        pi = ((series**2).sum(axis=0) <= 1).astype(int).sum()*4/N\n",
    "\n",
    "        # Computes the absolute error between estimated and numpy-called PI\n",
    "        abs_error[i,j] = abs(np.pi-pi)/np.pi\n",
    "        \n",
    "print(\"Done!\")"
   ]
  },
  {
   "cell_type": "markdown",
   "id": "4a138f83",
   "metadata": {},
   "source": [
    "### 2] Plot estimation accuracy"
   ]
  },
  {
   "cell_type": "code",
   "execution_count": 4,
   "id": "15cbe277",
   "metadata": {
    "scrolled": true
   },
   "outputs": [
    {
     "data": {
      "text/plain": [
       "<matplotlib.legend.Legend at 0x7ff8f847d5d0>"
      ]
     },
     "execution_count": 4,
     "metadata": {},
     "output_type": "execute_result"
    },
    {
     "data": {
      "image/png": "[encoded data removed]",
      "text/plain": [
       "<Figure size 432x288 with 1 Axes>"
      ]
     },
     "metadata": {
      "needs_background": "light"
     },
     "output_type": "display_data"
    }
   ],
   "source": [
    "# Plot\n",
    "plt.plot(np.log(size), np.percentile(abs_error, 50, axis=1))\n",
    "plt.fill_between(np.log(size), np.percentile(abs_error, 2.5, axis=1), np.percentile(abs_error, 97.5, axis=1), color='b', alpha=.1)\n",
    "\n",
    "# Plot settings\n",
    "plt.title(\"Estimation of PI via Montecarlo\")\n",
    "plt.xlabel(\"Ln of sample size\")\n",
    "plt.ylabel(\"Absolute relative error\")\n",
    "plt.legend([\"Median\", \"95% conf.\"], loc =\"upper right\")"
   ]
  },
  {
   "cell_type": "markdown",
   "id": "084486cf",
   "metadata": {},
   "source": [
    "### 3] Export results"
   ]
  },
  {
   "cell_type": "code",
   "execution_count": 3,
   "id": "60f7baeb",
   "metadata": {},
   "outputs": [],
   "source": [
    "import pandas as pd\n",
    "import os\n",
    "\n",
    "main_folder = os.path.dirname(os.getcwd())\n",
    "df_results = pd.DataFrame(abs_error.T, columns=[\"N=\"+str(k) for k in size])\n",
    "df_results.index.name = \"experiment\"\n",
    "df_results.to_csv(main_folder+\"/Data/1) Muestreo - PI estimation error.csv\")"
   ]
  }
 ],
 "metadata": {
  "kernelspec": {
   "display_name": "Python 3 (ipykernel)",
   "language": "python",
   "name": "python3"
  },
  "language_info": {
   "codemirror_mode": {
    "name": "ipython",
    "version": 3
   },
   "file_extension": ".py",
   "mimetype": "text/x-python",
   "name": "python",
   "nbconvert_exporter": "python",
   "pygments_lexer": "ipython3",
   "version": "3.7.11"
  }
 },
 "nbformat": 4,
 "nbformat_minor": 5
}
