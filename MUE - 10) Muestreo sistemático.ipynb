{
 "cells": [
  {
   "cell_type": "markdown",
   "id": "590ee37c",
   "metadata": {},
   "source": [
    "## Muestreo sistemático\n",
    "    - Es la forma de seleccionar una muestra donde únicamente el primer elemento es seleccionado aleatoriamente, mientras que el resto se toman sistemáticamente con intervalos constantes cada k elementos en la población.\n",
    "        k = N/n (k entero)\n",
    "    \n",
    "    VENTAJAS:\n",
    "    - Es más fácil hacer un muestreo, ya que el m.a.s. está sujeto a aleatoriedad, mientras que el sistemático puede aplicarse en campo sin incurrir en sesgos importantes.\n",
    "    - La muestra se reparte sistemáticamente en toda la población, por lo que es más factible reproducir una muestra \"representativa\"\n",
    "        \n",
    "    DESVENTAJAS\n",
    "    - Un mal arreglo en el marco puede producir muestras ineficientes\n",
    "    - NO se pueden calcular estimadores de la varianza a partir de una sola muestra sistemática"
   ]
  },
  {
   "cell_type": "markdown",
   "id": "4f61d9b6",
   "metadata": {},
   "source": [
    "### Conclusiones\n",
    "    - Se podría decir que se escoge un elemento dentro de k estratos\n",
    "\n",
    "    - El muestreo sistemático sí disminuye la varianza de los estimadores\n",
    "    \n",
    "    - Se debe cuidar que el orden de la población no sea periódico, ya que si coincide con el periodo de muestreo, se podría perder información o sobrestimar la varianza de los parámetros\n",
    "    \n",
    "    - Las estimaciones con múltiples muestreos sistemáticos sigue las reglas y fórmulas del muestreo en conglomerados. Cuando existe orden en la población, el estimador será más preciso que el m.a.s.\n",
    "    \n",
    "    - ***RO***\n",
    "    \n",
    "    - Cuando N no sea divisible exactamente entre n elementos, el tamaño de muestra variará entre k y k-1, dependiendo la semilla de arranque\n",
    "    \n",
    "    - El muestreo sistemático es eficiente cuando los elementos dentro de cada conglomerado son heterogenes y es ineficiente cuando son homogeneos"
   ]
  },
  {
   "cell_type": "markdown",
   "id": "5d4f8cb9",
   "metadata": {},
   "source": [
    "### 1] Definir una población\n",
    "    - Se define a partir de una distribución normal"
   ]
  },
  {
   "cell_type": "code",
   "execution_count": 198,
   "id": "df036f23",
   "metadata": {},
   "outputs": [
    {
     "name": "stdout",
     "output_type": "stream",
     "text": [
      "====================================================================================================\n",
      "PARÁMETROS POBLACIONALES\n",
      "\n",
      "Media =  101.3\n",
      "Total =  30386.8\n",
      "====================================================================================================\n"
     ]
    }
   ],
   "source": [
    "import random\n",
    "import numpy as np\n",
    "import pandas as pd\n",
    "from scipy.stats import norm\n",
    "from scipy.stats import t\n",
    "\n",
    "# Settngs\n",
    "N = 300\n",
    "n = 15\n",
    "confidence = 0.95\n",
    "\n",
    "# Population data frame\n",
    "df_population = pd.DataFrame()\n",
    "df_population[\"value\"] = norm.rvs(loc=100,scale=25,size=N)\n",
    "\n",
    "# Population parameters\n",
    "mean = df_population[\"value\"].mean(0)\n",
    "total = df_population[\"value\"].sum(0)\n",
    "\n",
    "# Output\n",
    "print(\"=\"*100)\n",
    "print(\"PARÁMETROS POBLACIONALES\\n\")\n",
    "print(\"Media = \", round(mean,1))\n",
    "print(\"Total = \", round(total,1))\n",
    "print(\"=\"*100)"
   ]
  },
  {
   "cell_type": "markdown",
   "id": "51bac470",
   "metadata": {},
   "source": [
    "### 2] Estimación con m.a.s.\n",
    "    - Para fines comparativos\n",
    "\n",
    "    - Cuando las unidades en el marco están en un orden aleatorio, el muestreo sistemático asemeja al m.a.s."
   ]
  },
  {
   "cell_type": "code",
   "execution_count": 199,
   "id": "bde4a806",
   "metadata": {},
   "outputs": [
    {
     "name": "stdout",
     "output_type": "stream",
     "text": [
      "====================================================================================================\n",
      "ESTIMACIÓN CON M.A.S.\n",
      "EE(Media): 4.9\n",
      "\n",
      "Media: 99.0\n",
      "Entre: [ 88.6 109.4]\n",
      "====================================================================================================\n"
     ]
    }
   ],
   "source": [
    "# Select a sample\n",
    "df_sample = df_population.sample(n=n, random_state=314159)\n",
    "\n",
    "# Point estimates\n",
    "mean = df_sample[\"value\"].mean(0)\n",
    "total = N * df_sample[\"value\"].mean(0)\n",
    "var = df_sample[\"value\"].var(0,ddof=1)\n",
    "\n",
    "# Confidence intervals\n",
    "mean_std = ( (1-n/N) * var/n )**0.5\n",
    "mean_interval = mean + mean_std*t(df=n-1).ppf((0.5-confidence/2, 0.5+confidence/2))\n",
    "\n",
    "# Output\n",
    "print(\"=\"*100)\n",
    "print(\"ESTIMACIÓN CON M.A.S.\")\n",
    "print(\"EE(Media):\",round(mean_std,1))\n",
    "print(\"\\nMedia:\",round(mean,1))\n",
    "print(\"Entre:\",np.round(mean_interval,1))\n",
    "print(\"=\"*100)"
   ]
  },
  {
   "cell_type": "markdown",
   "id": "f78d0cec",
   "metadata": {},
   "source": [
    "### 3] Estimación con una muestra sistemática\n",
    "    - Para este caso las expresiones utilizadas corresponden a las del m.a.s.\n",
    "    \n",
    "    - Cuando la muestra se encuentra ordenada, se esperan mejores reultados que el m.a.s.\n",
    "    \n",
    "    - Se selecciona un arranque i aleatorio tal que 1<=i<=k (se selecciona un aleatorio entre los primeros k elementos). Por lo tanto la unidad i U_[i] es el arranque. A continuación, la unidad que se encuentre a k unidades de distancia es seleccionada U_[i+k], posteriormente U_[i+2k]... hasta U_[i-(n-1)k]\n",
    "    \n",
    "    - Otra forma de seleccionar la muestra es arrancar en k/2, con lo cuál se toma la mitad del conglomerado de k elementos y, teóricamente, se mejora la precisión de los estimadores, mientras que otros investigadores sugieren que realizar esto haría que los estimadores se comporten errántemente.\n",
    "    \n",
    "    - Para una muestra sistemática se tiene que:\n",
    "        y_mean = sum(y_i)/n"
   ]
  },
  {
   "cell_type": "code",
   "execution_count": 200,
   "id": "3400e40f",
   "metadata": {},
   "outputs": [
    {
     "name": "stdout",
     "output_type": "stream",
     "text": [
      "====================================================================================================\n",
      "ESTIMACIÓN CON MUESTREO SISTEMÁTICO\n",
      "EE(Media): 6.2\n",
      "\n",
      "Media: 103.7\n",
      "Entre: [ 90.5 117. ]\n",
      "====================================================================================================\n"
     ]
    }
   ],
   "source": [
    "# Sort increasingly\n",
    "df_population.sort_values(by=[\"value\"], inplace=True)\n",
    "\n",
    "# Define steps in choosing units\n",
    "k = int(N/n)\n",
    "\n",
    "# Randomly select a start unit\n",
    "start = int(np.random.randint(low=0, high=k, size=1))\n",
    "\n",
    "# Mask indicating element to be included in sample\n",
    "mask = [0]*k\n",
    "mask[start] = 1\n",
    "mask = np.tile(mask, n).astype(bool)\n",
    "\n",
    "# Select sample\n",
    "df_sample = df_population[mask]\n",
    "\n",
    "\n",
    "\n",
    "# Point estimates\n",
    "mean = df_sample[\"value\"].mean(0)\n",
    "total = N * df_sample[\"value\"].mean(0)\n",
    "var = df_sample[\"value\"].var(0,ddof=1)\n",
    "\n",
    "# Confidence intervals\n",
    "mean_std = ( (1-n/N) * var/n )**0.5\n",
    "mean_interval = mean + mean_std*t(df=n-1).ppf((0.5-confidence/2, 0.5+confidence/2))\n",
    "\n",
    "# Output\n",
    "print(\"=\"*100)\n",
    "print(\"ESTIMACIÓN CON MUESTREO SISTEMÁTICO\")\n",
    "print(\"EE(Media):\",round(mean_std,1))\n",
    "print(\"\\nMedia:\",round(mean,1))\n",
    "print(\"Entre:\",np.round(mean_interval,1))\n",
    "print(\"=\"*100)"
   ]
  },
  {
   "cell_type": "markdown",
   "id": "fbb688a9",
   "metadata": {},
   "source": [
    "### 4] Seleccionar múltiples muestras sistemáticas\n",
    "    - Es equivalente seleccionar diferentes arranques o tomar todas las muestras posibles y seleccionarlas\n",
    "\n",
    "    - Para mejorar los estimadores es necesario tomar mútiples muestras de tamaño n, no dividir n entre el número de muestras a tomar"
   ]
  },
  {
   "cell_type": "code",
   "execution_count": 201,
   "id": "ce70f3b0",
   "metadata": {},
   "outputs": [],
   "source": [
    "# Sample size is divided by two to work with three clusters\n",
    "k = 2\n",
    "\n",
    "# Define all possible systematic samples\n",
    "df_sample = df_population.copy()\n",
    "df_sample[\"sample\"] = np.tile([i for i in range(int(N/n))],n)\n",
    "    \n",
    "# Randomly select k samples\n",
    "mask = random.sample([i for i in range(int(N/n))], k)\n",
    "df_sample = df_sample[df_sample[\"sample\"].isin(mask)].copy()\n",
    "\n",
    "# Statistics of systematic samples\n",
    "sample = df_sample[\"sample\"]\n",
    "sample_mean = [df_sample[\"value\"].mean(0)] + [df_sample[\"value\"][sample==i].mean(0) for i in mask]\n",
    "sample_var = [df_sample[\"value\"].var(0, ddof=1)] + [df_sample[\"value\"][sample==i].var(0,ddof=1) for i in mask]"
   ]
  },
  {
   "cell_type": "markdown",
   "id": "613f373a",
   "metadata": {},
   "source": [
    "### 5] Estimación con múltiples muestras sistemáticas\n",
    "\n",
    "    - En realidad, lo que se hace es dividir la población en k muestras (conglomerados). Existen k muestras posibles, el mismo número que los saltos en los intervalos.\n",
    "    \n",
    "    - La media poblacional se estima como:\n",
    "    \n",
    "        mean = 1/k * sum(mean_j)\n",
    "            \n",
    "            donde:\n",
    "            k: Número de muestras sistemáticas utilizadas\n",
    "            mean_j: Media dentro de cada la muestra sistemática j\n",
    "            \n",
    "\n",
    "    - La varianza del estimador de la media se calcula como.\n",
    "        \n",
    "        V(y_mean) = (1-1/N)*S^2 - (1-1/n)*S_w^2\n",
    "        S_w^2 = 1/k * sum[j in k](S_j)\n",
    "    \n",
    "        donde:\n",
    "            S^2: Varianza observada al unir los elementos de todas las muestras sistemáticas\n",
    "            k: Número de muestras sistemáticas seleccionadas\n",
    "            n: Tamaño de muestra dentro de cada muestra sistemática\n",
    "            S_w^2: Varianza (within) dentro conglomerados\n",
    "            S_j: Varianza observada dentro del conglomerado j\n",
    "            Nota: Observe que S_w^2 es el promedio de las varianzas observadas dentro de los conglomerados\n",
    "            Nota: (1-1/N) es casi equivalente a k*(n-1)/N\n",
    "            \n",
    "    - Para que V(y_mean) de un muestreo sistemático sea mejor estimador que el m.a.s. se necesita que S < S_w, es decir, que la varianza promedio de los conglomerados sea mayor que una muestra unificada."
   ]
  },
  {
   "cell_type": "code",
   "execution_count": 202,
   "id": "e3112b8d",
   "metadata": {
    "scrolled": true
   },
   "outputs": [
    {
     "name": "stdout",
     "output_type": "stream",
     "text": [
      "====================================================================================================\n",
      "ESTIMACIÓN CON MÚLTIPLES MUESTRAS SISTEMÁTICAS\n",
      "EE(Media): 4.5\n",
      "Media: 101.3\n",
      "Entre: [ 91.5 111. ]\n",
      "\n",
      "CONSIDERANDO UNA SOLA MUESTRA:\n",
      "EE(Media)[m.a.s]: 8.2\n",
      "EE(Media)[single systematic]: 6.1\n",
      "====================================================================================================\n"
     ]
    }
   ],
   "source": [
    "# Compute mean\n",
    "mean = np.array([df_sample[\"value\"][sample==i].mean(0) for i in mask]).mean(0)\n",
    "\n",
    "# Compute variance of estimator of mean\n",
    "var_w = np.array(sample_var[1:]).mean(0)\n",
    "mean_var = (1-1/N)*sample_var[0] - (N/n)*(n-1)/N*var_w\n",
    "mean_std = mean_var**0.5\n",
    "mean_interval = mean + mean_std*t(df=n-1).ppf((0.5-confidence/2, 0.5+confidence/2))\n",
    "\n",
    "# Output\n",
    "print(\"=\"*100)\n",
    "print(\"ESTIMACIÓN CON MÚLTIPLES MUESTRAS SISTEMÁTICAS\")\n",
    "print(\"EE(Media):\",round(mean_std,1))\n",
    "print(\"Media:\",round(mean,1))\n",
    "print(\"Entre:\",np.round(mean_interval,1))\n",
    "print(\"\\nCONSIDERANDO UNA SOLA MUESTRA:\\nEE(Media)[m.a.s]:\",\n",
    "      round((df_sample[\"value\"].var(0) / n*k * (1-n*k/N))**0.5,1))\n",
    "print(\"EE(Media)[single systematic]:\",\n",
    "     round((df_sample[\"value\"][sample==mask[0]].var(0) / n * (1-n/N))**0.5,1))\n",
    "print(\"=\"*100)"
   ]
  },
  {
   "cell_type": "markdown",
   "id": "2f0319f8",
   "metadata": {},
   "source": [
    "### 6] Otra forma de V(mean)\n",
    "    - Alternativamente, existe otra expresión de la varianza de la media.\n",
    "        \n",
    "        V(mean) = S_st^2/n * (1-1/N) * (1+ro*(n-1))\n",
    "        S_wst^2 = 1/(n*k-n) * sum[j in n](sum[i in k]( (y_ij-mean_j)^2 ))\n",
    "        ro = 2/(n*(n-1)*(k-1)*S_wst^2) * sum[r in k](sum[i in n][j!=i in n] ((y_i-mean_st_i)*(y_j-mean_st_j)))\n",
    "        \n",
    "            donde:\n",
    "            S_wst^2: Varianza de las unidades dentro de cada estrato\n",
    "            ro: Coeficiente de correlación intraclase\n",
    "            mean_st_i: Media del estrato del elemento i (a través de las k muestras sistemáticas)\n",
    "            \n",
    "            Nota: Debido a que se forman k estratos en la población, al parear las unidades de cada muestra\n",
    "            sistemática, las primeras de ellas se extraen del primer estrato (1 a k unidades de la población),\n",
    "            las segundas unidades, del segundo estrato (k+1 a 2k) y sucesivamente\n",
    "\n",
    "            Nota: Observe que para S_st^2 se itera primero por elemento y por columna, contrario a lo usual\n",
    "            que es que para cada columna se iteren todos los elementos\n",
    "            \n",
    "            Nota: Observe que ro se calcula sumando para cada muestra sistemática el producto de la diferencia \n",
    "            de la media de cada estrato para el cruce de todos los elementos dentro de cada muestra sistemática"
   ]
  },
  {
   "cell_type": "code",
   "execution_count": 203,
   "id": "9abd315f",
   "metadata": {
    "scrolled": true
   },
   "outputs": [
    {
     "name": "stdout",
     "output_type": "stream",
     "text": [
      "====================================================================================================\n",
      "ESTIMACIÓN CON MÚLTIPLES MUESTRAS SISTEMÁTICAS\n",
      "EE(Media): 2.7\n",
      "Media: 101.3\n",
      "Entre: [ 95.4 107.1]\n",
      "====================================================================================================\n"
     ]
    }
   ],
   "source": [
    "# Compute statistics for stratas\n",
    "mean = [df_sample[\"value\"][i*k:k*(i+1)].mean(0) for i in range(n)]\n",
    "var_wst = 1/(n*k-n) * sum(sum( (df_sample[\"value\"].iloc[j*k+i] - mean[j])**2 for i in range(k)) for j in range(n))\n",
    "\n",
    "# Compute ro\n",
    "accum = 0\n",
    "for i in range(k):\n",
    "    values = np.array(df_sample[\"value\"][sample==mask[0]])\n",
    "    for j in range(n):\n",
    "        for u in range(j+1,n):\n",
    "            accum += (values[j]-mean[j]) * (values[u]-mean[u])\n",
    "ro = 2 / (n*(n-1)*(k-1)*var_wst) * accum\n",
    "\n",
    "# Compute estimators\n",
    "mean = np.array([df_sample[\"value\"][sample==i].mean(0) for i in mask]).mean(0)\n",
    "mean_var = var_wst/n * (1-n/N) * (1 + (n-1)*ro)\n",
    "mean_std = mean_var**0.5\n",
    "mean_interval = mean + mean_std*t(df=n-1).ppf((0.5-confidence/2, 0.5+confidence/2))\n",
    "\n",
    "# Output\n",
    "print(\"=\"*100)\n",
    "print(\"ESTIMACIÓN CON MÚLTIPLES MUESTRAS SISTEMÁTICAS\")\n",
    "print(\"EE(Media):\",round(mean_std,1))\n",
    "print(\"Media:\",round(mean,1))\n",
    "print(\"Entre:\",np.round(mean_interval,1))\n",
    "print(\"=\"*100)\n"
   ]
  }
 ],
 "metadata": {
  "kernelspec": {
   "display_name": "Python 3 (ipykernel)",
   "language": "python",
   "name": "python3"
  },
  "language_info": {
   "codemirror_mode": {
    "name": "ipython",
    "version": 3
   },
   "file_extension": ".py",
   "mimetype": "text/x-python",
   "name": "python",
   "nbconvert_exporter": "python",
   "pygments_lexer": "ipython3",
   "version": "3.7.11"
  }
 },
 "nbformat": 4,
 "nbformat_minor": 5
}
