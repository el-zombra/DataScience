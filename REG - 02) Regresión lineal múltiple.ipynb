{
 "cells": [
  {
   "cell_type": "markdown",
   "id": "869ad9f3",
   "metadata": {},
   "source": [
    "# 02] Regresión Lineal Múltiple\n",
    "    - Un modelo de regresión que contempla a dos o más variables predictoras es llamado un modelo de regresión\n",
    "    múltiple. Por ejemplo:\n",
    "        \n",
    "        y = b_0 + b_1*x1 + b_2*x2 + b_k*xk + e\n",
    "        \n",
    "        Observe que:\n",
    "        - b_j (j>0) representa el cambio esperado en y cuando se incrementa xk en una unidad, manteniendo el \n",
    "        resto de los regresores constantes.\n",
    "        - Se asume E(e)=0, por lo que E(Y | x1,...,xk) = b_0 + sum[j=1 to k](b_j*xk)\n",
    "        - Estos modelos son llamados empíricos y buscan aproximar la relación entre y la colección de \n",
    "        regresores, dentro de un rango específico de éstos.\n",
    "        \n",
    "    - El modelo se llama lineal por el orden de los coeficientes, no de los regresores, por lo que si se tiene \n",
    "    un modelo como: E(y) = b_1*x1 + b_2*x1^2, se puede reescribir como E(y) = b_1*x1 + b_2*x2.\n",
    "    \n",
    "    - Del mismo modo, términos de interacción pueden ser modelados como x3 = x1*x2. Una interpretación de \n",
    "    las interacciones es que un cambio de una unidad en x1 puede tener mayor o menor impacto en E(y) \n",
    "    dependiendo del valor de x2."
   ]
  },
  {
   "cell_type": "code",
   "execution_count": 70,
   "id": "ae5cf175",
   "metadata": {},
   "outputs": [],
   "source": [
    "# Used libraries\n",
    "import warnings\n",
    "import pandas as pd\n",
    "import numpy as np\n",
    "import seaborn as sns\n",
    "from scipy.stats import f\n",
    "from scipy.stats import t\n",
    "import statsmodels.api as sm\n",
    "import matplotlib.pyplot as plt"
   ]
  },
  {
   "cell_type": "markdown",
   "id": "a01454c4",
   "metadata": {},
   "source": [
    "## 2.1] Definir datos - T3S1E1\n",
    "    - Los datos son provistos por el profesor en la Tarea 3. Sección 1, Ejercicio 1."
   ]
  },
  {
   "cell_type": "code",
   "execution_count": 71,
   "id": "92f93fb1",
   "metadata": {},
   "outputs": [
    {
     "data": {
      "image/png": "[encoded data removed]",
      "text/plain": [
       "<Figure size 432x288 with 1 Axes>"
      ]
     },
     "metadata": {
      "needs_background": "light"
     },
     "output_type": "display_data"
    }
   ],
   "source": [
    "# Regression auxiliary data\n",
    "n = 11\n",
    "k = 2\n",
    "p = k+1\n",
    "\n",
    "# Define sampled values\n",
    "y_sample = np.array([6, 8, 1, 0, 5, 3, 2, -4, 10, -3, 5])\n",
    "x1_sample = np.array([1, 4, 9, 11, 3, 8, 5, 10, 2, 7, 6])\n",
    "x2_sample = np.array([8, 2, -8, -10, 6, -6, 0, -12, 4, -2, -4])\n",
    "\n",
    "# Define dataframe with sample data\n",
    "df_data = pd.DataFrame({\"y_sample\": y_sample, \"x1_sample\": x1_sample, \"x2_sample\": x2_sample})\n",
    "\n",
    "# Plot correlation matrix\n",
    "sns.heatmap(df_data.corr(), cmap=\"coolwarm_r\", annot=True, square=True, linewidths=5, cbar=False)\n",
    "plt.title(\"Correlation between variables\", fontsize=20)\n",
    "plt.show()"
   ]
  },
  {
   "cell_type": "markdown",
   "id": "3aef0079",
   "metadata": {},
   "source": [
    "## 2.2] Estimación de los parámetros del modelo\n",
    "    - Se utiliza el método de mínimos cuadrados. Las observacines se ordenan de acuerdo a y_i, x1_i,..., xk_i, \n",
    "    donde n>k. Se asume E(e_i)=0, Var(e_i)=s^2 y errores no correlacionados.\n",
    "    \n",
    "    - Se asume que las variables X_j son no aleatorias (o algebráicas). En el caso de que sea variables \n",
    "    aleatorias basta con asegurarse que son independientes entre sí, de los coeficientes b_j y s^2,\n",
    "    \n",
    "    - Es más conveniente usar la representación matricial del modelo:\n",
    "    \n",
    "        [y] = [X] [b] + [e]\n",
    "        \n",
    "            donde:\n",
    "            [y]: Vector (nx1) que contiene las n observaciones de la variable de respuesta\n",
    "            [X]: Matriz (nxp) que contiene las n observaciones de las k variables predictoras. Se añade como \n",
    "            primera columna [1], el vector (nx1) de unos.\n",
    "            [b]: Vector (px1) con los coeficientes b_0, b_1, ..., b_k\n",
    "            [e]: Vector (nx1) con los errores e_1, ..., e_n\n",
    "            \n",
    "            observe que:\n",
    "            p = k+1. p considera las k variables explicativas y la columna [1], la cual ayuda a modelar b_0\n",
    "            [X] [b]: representa la multiplicación de matrices\n",
    "            \n",
    "    - Los coeficientes b^_0, b^_1, ..., b^_k se estima por mínimos cuadrados con la siguiente expresión:\n",
    "    \n",
    "        [B^] = [[X]T [X]]^-1 [X]T [y]\n",
    "        \n",
    "            donde:\n",
    "            [B^]: Vector (px1) que contiene los coeficientes b^_0, ...,b^_k\n",
    "            [X]T: Es la matriz [X] transpuesta\n",
    "            []^-1: Representa la inversa de la matriz\n",
    "            \n",
    "            observe que:\n",
    "            - Se debe asegurar que existe la inversa de [[X]T [X]]. Para garantizarlo es necesario asegurarse \n",
    "            de que las variables predictoras sean linealmente independientes.\n",
    "    \n",
    "    - Los valores ajustados se calculan como:\n",
    "    \n",
    "        y_i = b_0 + sum[j=1 to k](b_j*xj_i)\n",
    "        \n",
    "            donde:\n",
    "            xj_i: Observación i de la variable xj\n",
    "        \n",
    "    - Su forma matricial se expresa como;\n",
    "        \n",
    "        [y^] = [[X][B^]] =  [X] [[X]T [X]]^-1 [X]T [y] = [H] [y]\n",
    "        \n",
    "            donde:\n",
    "            [H]: Matriz \"Hat\", la cual juega un papel importante en el análisis de regresión\n",
    "            \n",
    "    - Los residuales del modelo, la diferencia entre el valor observado y el ajustado, se pueden obtener como:\n",
    "    \n",
    "        [e] = [y] - [y^] = [y] - [X] [b] = [[I] - [H]] [y]\n",
    "        \n",
    "            donde:\n",
    "            [I]: Matriz identidad (nxn)"
   ]
  },
  {
   "cell_type": "code",
   "execution_count": 72,
   "id": "a87a37e0",
   "metadata": {
    "scrolled": true
   },
   "outputs": [
    {
     "name": "stdout",
     "output_type": "stream",
     "text": [
      "==================================================================================================== \n",
      "Estimated regression coefficients b_j:\n",
      "[14.  -2.  -0.5] \n",
      "====================================================================================================\n"
     ]
    }
   ],
   "source": [
    "# Define X matrix\n",
    "X = np.append([[1]]*n, df_data[[\"x1_sample\", \"x2_sample\"]].values, axis=1)\n",
    "B = np.linalg.inv(X.T@X) @ X.T @ y_sample\n",
    "\n",
    "# Compute Hat matrix\n",
    "H = X @ np.linalg.inv(X.T@X) @ X.T\n",
    "\n",
    "# Calculate predictions for response variable\n",
    "y_pred = H @ y_sample\n",
    "\n",
    "# Calculate model residuals\n",
    "e = y_sample - y_pred\n",
    "\n",
    "# Display results\n",
    "print(\"=\"*100, \"\\nEstimated regression coefficients b_j:\\n{}\".format(np.round(B,2)), \"\\n\"+\"=\"*100)"
   ]
  },
  {
   "cell_type": "markdown",
   "id": "469db826",
   "metadata": {},
   "source": [
    "## 2.3] Estimar varianza de los residuales\n",
    "    - Primero calculamos SS_Res, que es similar a la que se calculo en RLS, pues ayuda a conocer la varianza \n",
    "    que no es explicada por el modelo. Se puede demostrar que sus grados de libertad son (n-p). Por lo tanto, \n",
    "    un estimador insesgado de la varianza de los residuales es:\n",
    "    \n",
    "        SS_Res: [e]T [e]\n",
    "        MS_Res = SS_Res / (n-p)\n",
    "        s^^2 = MS_Res\n",
    "        \n",
    "            donde:\n",
    "            SS_Res: Residual sum squares\n",
    "            MS_Res: Residual mean square\n",
    "            [e]: Vector con los residuales\n",
    "            s^^2: Estimador de la varianza de los residuales"
   ]
  },
  {
   "cell_type": "code",
   "execution_count": 73,
   "id": "dfb77fe5",
   "metadata": {},
   "outputs": [
    {
     "name": "stdout",
     "output_type": "stream",
     "text": [
      "==================================================================================================== \n",
      "\n",
      "Estimate of residual's variance:\n",
      "8.50 \n",
      "\n",
      "====================================================================================================\n"
     ]
    }
   ],
   "source": [
    "SS_Res = e.T @ e\n",
    "MS_Res = SS_Res / (n-p)\n",
    "e_var_est = MS_Res\n",
    "\n",
    "# Display results\n",
    "print(\"=\"*100, \"\\n\\nEstimate of residual's variance:\\n{:.2f}\".format(e_var_est), \"\\n\\n\"+\"=\"*100)"
   ]
  },
  {
   "cell_type": "markdown",
   "id": "74ef5985",
   "metadata": {},
   "source": [
    "## 2.4] Diagramas de dispersión\n",
    "    - En regresión lineal múltiple es importante remarcar que los diagramas de dispersión entre las variables Y \n",
    "    y Xj no siempre proveen información clara sobre la relación entre ellas. Por eso. no se deben de utilizar\n",
    "    para obtener conclusiones tempranas.\n",
    "    \n",
    "    - Se observa que para algunos casos se tiene diferente respuesta para un valor de x1_i, el modelo de \n",
    "    regresión lineal múltiple ayuda a modificar la respuesta al incorporar x2_i."
   ]
  },
  {
   "cell_type": "code",
   "execution_count": 74,
   "id": "b9595351",
   "metadata": {},
   "outputs": [
    {
     "data": {
      "image/png": "[encoded data removed]",
      "text/plain": [
       "<Figure size 432x432 with 9 Axes>"
      ]
     },
     "metadata": {
      "needs_background": "light"
     },
     "output_type": "display_data"
    }
   ],
   "source": [
    "# Plot scatter plot grid\n",
    "g = sns.PairGrid(df_data)\n",
    "g.map(sns.scatterplot)\n",
    "\n",
    "# Figure settings\n",
    "g.fig.set_size_inches(6,6)\n",
    "g.fig.subplots_adjust(top=0.9)\n",
    "g.fig.suptitle(\"Dispersion of response and predictor variables\", fontsize=20)\n",
    "\n",
    "# Show plot\n",
    "plt.show()"
   ]
  },
  {
   "cell_type": "markdown",
   "id": "68e5dadf",
   "metadata": {},
   "source": [
    "## 2.5] Pruebas de hipótesis sobre los estimadores individuales\n",
    "    - La variación de la variable respuesta (SS_T) está conformada por la variación explicada por el modelo \n",
    "    (SS_R) y la variación residual (SS_Res). Para probar la significancia del modelo conjunto se hace una \n",
    "    prueba de hipótesis sobre la fuente de la variación. El estadístico sigue una distribución F con (k, n-k-1) \n",
    "    grados de libertad. Si el estadístico F_0 es mayor al asociado a un cuantil con una significancia (alpha) \n",
    "    dada, se rechaza la hipótesis de que la fuente de variación son la misma.\n",
    "    \n",
    "        F_0 = (SS_R/k) / (SS_Res/(n-k-1)) = MS_R / MS_Res\n",
    "        \n",
    "            donde:\n",
    "            SS_R: Regression sum of square. SS_R = [B]T [X]T [y] - 1/n*sum[i=1 to n](y_i)**2\n",
    "        \n",
    "    - Al añadir una una variable al modelo de regresión se espera que SS_R aumente, por lo que el modelo logre\n",
    "    explicar más variación en la respuesta, por lo que surje naturalmente una pregunta: ¿qué variables tienen \n",
    "    mejor poder predictivo? De igual manera es posible que el añadir otra variable explicativa aumente SS_Res.\n",
    "    \n",
    "    - Para probar la significancia de cada variable por separado se pueden construir pruebas de hipótesis\n",
    "    individuales para asegurarse que una variable Xj sea significativa, es decir que bj!=0. El estadístico de \n",
    "    prueba sigue una distirbución tStudent con (n-k-1) grados de libertad. La varianza del estimador se \n",
    "    calcula como:\n",
    "    \n",
    "        var(b_j) = s^^2 * [C_jj]\n",
    "        \n",
    "            donde:\n",
    "            [C_jj]: Es el elemejto j de la diagonal de la matriz [C] = [[X]T [X]]^-1"
   ]
  },
  {
   "cell_type": "code",
   "execution_count": 75,
   "id": "4149ddf8",
   "metadata": {},
   "outputs": [
    {
     "name": "stdout",
     "output_type": "stream",
     "text": [
      "====================================================================================================\n",
      "\n",
      "The model that predicts Y with X1 and X2 IS significant\n",
      "p-value:0.02\n",
      "\n",
      "====================================================================================================\n",
      "95% confidence intervals of coefficients:\n",
      "[[-0.055 28.055]\n",
      " [-4.764  0.764]\n",
      " [-1.882  0.882]]\n",
      "\n",
      "====================================================================================================\n"
     ]
    }
   ],
   "source": [
    "# Calculate sources of variation\n",
    "SS_T = n * y_sample.var(ddof=0)\n",
    "SS_R = SS_T - SS_Res\n",
    "MS_R = SS_R / (k)\n",
    "\n",
    "# Calculate F0 statistic and compare it to test statistic\n",
    "F_0 = MS_R / MS_Res\n",
    "p_value = 1-f.cdf(F_0, k, n-k-1)\n",
    "message = \"IS\" if p_value<0.05 else \"IS NOT\"\n",
    "message = \"The model that predicts Y with X1 and X2 {} significant\".format(message)\n",
    "\n",
    "# Compute C matrix\n",
    "C = np.linalg.inv(X.T @ X)\n",
    "B_std = (e_var_est * np.diag(C)) ** 0.5\n",
    "B_confint = B[:,np.newaxis] + t.ppf([0.025,0.975], df=n-k-1) * B_std[:, np.newaxis]\n",
    "\n",
    "# Display results\n",
    "print(\"=\"*100+\"\\n\\n{}\".format(message)+\"\\np-value:{}\".format(np.round(p_value,2))+\"\\n\\n\"+\"=\"*100)\n",
    "print(\"95% confidence intervals of coefficients:\\n{}\".format(np.round(B_confint,3))+\"\\n\\n\"+\"=\"*100)"
   ]
  },
  {
   "cell_type": "markdown",
   "id": "8737db9a",
   "metadata": {},
   "source": [
    "## 2.6] Pruebas de hipótesis sobre conjuntos de estimadores\n",
    "\n",
    "    - Se puede determinar la contribución, en términos de explicar la variación de Y, de un conjunto de \n",
    "    r variables (el conjunto puede contener solo a una), dado que ya se tiene un modelo con p-r variables \n",
    "    explicativas. Este método se llama \"suma de cuadrados adicional\".\n",
    "    \n",
    "    - El primero paso es dividir el vector [B] en dos conjuntos:\n",
    "    \n",
    "        [B] = stack([B1] [B2])\n",
    "        \n",
    "            donde: stack([] []) implica una apilación vertical\n",
    "            [B]: Vector  (px1)\n",
    "            [B1]: Vector (p-r), ya se tiene un modelo con estos coeficientes, al que se le agregará un nuevo \n",
    "                  conjunto\n",
    "            [B2]: Vector (r), es para el que se probará su contribución a explicar la variació\n",
    "            \n",
    "    - Por lo tanto, el modelo se puede escribir como:\n",
    "    \n",
    "        [y] = [X][B] + [e] = [X1][B1] + [X2][B2] + [e]\n",
    "        \n",
    "    - Para calcular la aportación de [B2] dado un modelo que ya contiene [B1], se considera la expresión. Las \n",
    "    contribuciones se dan en términos de SS_R.\n",
    "    \n",
    "        SS_R([B2] | [B1]) = SS_R[B] - SS_R[B1]\n",
    "        \n",
    "            donde:\n",
    "            SS_R[B]: Regression sum of square del modelo que contempla [B]\n",
    "            SS_R[B1]: Regression sum of square del modelo que solo contempla las variables relacionadas a [B1]\n",
    "            SS_R([B2] | [B1]): Square sum adicional al contemplar [B2] en un modelo que ya contempla [B1]\n",
    "            \n",
    "            observe que:\n",
    "            - El método ayuda a calcular la contribución marginal de incluir [B2]\n",
    "            \n",
    "    - Únicamente en el caso de que X1 y X2 sean ortogonales se tiene que:\n",
    "    \n",
    "        SS_R[B] = SS_R[B1] + SS_R[B2]\n",
    "\n",
    "    - Adicionalmente, se puede hacer una prueba de hipótesis para conocer si [B2]!=0, utilizando la misma\n",
    "    prueba mencionada anteriormente, ajustando por los grados de libertad adecuados.\n",
    "    \n",
    "        F_0 = (SS_R([B2] | [B1])/r) / (MS_Res)\n",
    "        \n",
    "            observe que:\n",
    "            - Esta prueba nos ayuda a decidir si agregar un conjunto [B2] de variables explicativas es \n",
    "            significativo para el modelo o no."
   ]
  },
  {
   "cell_type": "code",
   "execution_count": 76,
   "id": "96b48654",
   "metadata": {},
   "outputs": [
    {
     "name": "stdout",
     "output_type": "stream",
     "text": [
      "====================================================================================================\n",
      "\n",
      "X1 contributes more in explaining the response\n",
      "\n",
      "====================================================================================================\n",
      "Associated p-values:\n",
      "[0.011 0.018]\n",
      "\n",
      "====================================================================================================\n"
     ]
    }
   ],
   "source": [
    "# Calculate additional Res. Sq. Sum for X2 given X1\n",
    "X_1 = np.vstack([X[:,0], X[:,1]]).T\n",
    "B_1 = np.linalg.inv(X_1.T @ X_1) @ X_1.T @ y_sample\n",
    "SS_R_1 = B_1.T @ X_1.T @ y_sample - (1/n)*y_sample.sum()**2\n",
    "SS_R_2_1 = SS_T - SS_R_1\n",
    "\n",
    "# Calculate additional Res. Sq. Sum. for X2 given X1\n",
    "X_2 = np.vstack([X[:,0], X[:,2]]).T\n",
    "B_2 = np.linalg.inv(X_2.T @ X_2) @ X_2.T @ y_sample\n",
    "SS_R_2 = B_2.T @ X_2.T @ y_sample - (1/n)*y_sample.sum()**2\n",
    "SS_R_1_2 = SS_T - SS_R_2\n",
    "\n",
    "# Define which variable is more relevent in explaining Y\n",
    "message = \"X1\" if SS_R_1_2 > SS_R_2_1 else \"X2\"\n",
    "message = \"{} contributes more in explaining the response\".format(message)\n",
    "\n",
    "# Hypothesis test for additional variables\n",
    "F_0_1 = SS_R_1_2 / MS_Res\n",
    "F_0_2 = SS_R_2_1 / MS_Res\n",
    "p_value = np.round(1 - f.cdf([F_0_1, F_0_2], 1, n-k-1),3)\n",
    "\n",
    "\n",
    "#Display output\n",
    "print(\"=\"*100+\"\\n\\n{}\".format(message)+\"\\n\\n\"+\"=\"*100)\n",
    "print(\"Associated p-values:\\n{}\".format(p_value)+\"\\n\\n\"+\"=\"*100)"
   ]
  },
  {
   "cell_type": "markdown",
   "id": "10b72060",
   "metadata": {},
   "source": [
    "## 2.7] Intervalos de estimación de la respuesta media y de predicción\n",
    "    - Siguiendo la teoría del modelo de regresión lineal simple tenemos que para estimar un intervalo de \n",
    "    confianza para y^_0 (observación de la predicción media en el punto 0) se tiene que calcular la varianza. \n",
    "    Se sigue una distribución t con (n-p) grados de libertad\n",
    "    \n",
    "        Var[E(y_0 | [x_0])] = Var[y^_0] = s^^2 * [x_0]T  [[X]T [X]]^-1 [x_0]\n",
    "        \n",
    "            donde:\n",
    "            [x_0]: Conjunto de k observaciones para el punto a estimar\n",
    "            \n",
    "            observe que:\n",
    "            - Aunque no esté implícito, los CI son más cortos mientras más cercano se esté al centroide de los \n",
    "            datos. La velocidad con que se hacen más grandes los intervalos depende del modelo. Una forma de \n",
    "            comparar modelos es evaluar la longitud del IC.\n",
    "            \n",
    "    - Para el caso de predicciones puntuales se tiene que:\n",
    "    \n",
    "        Var(y^_0) = s^^2 * (1 + [x_0]T [[X]T [X]]^-1 [x_0])\n",
    "        \n",
    "            observe que:\n",
    "            - Se añade una unidad de s^^2, por lo que se espera que sean más grandes que los de estimación de \n",
    "            la respuesta media."
   ]
  },
  {
   "cell_type": "code",
   "execution_count": 145,
   "id": "d8f1be02",
   "metadata": {},
   "outputs": [
    {
     "name": "stdout",
     "output_type": "stream",
     "text": [
      "For the point (1, 8) the confidence intervals are:\n",
      " \n",
      "Observed y: 6 \n",
      "\n",
      "Mean response:\n",
      "[ 4.18898185 11.81101815] \n",
      "\n",
      "Prediction:\n",
      "[ 0.27187426 15.72812574]\n"
     ]
    }
   ],
   "source": [
    "# Compute variance for each observation\n",
    "mean_response_var = []\n",
    "for x1, x2 in zip(x1_sample, x2_sample):\n",
    "    x0 = np.array([1, x1, x2])\n",
    "    mean_response_var += [e_var_est * x0.T @ np.linalg.inv(X.T@X) @ x0]\n",
    "mean_response_std = np.array(mean_response_var)**0.5\n",
    "\n",
    "# Compute mean response for each observation\n",
    "predict = X @ B\n",
    "\n",
    "# Calculate confidence interval for each observation\n",
    "mean_response_ci = predict.reshape(-1,1) + mean_response_std.reshape(-1,1) * t.ppf([0.025,0.975], df=n-p)\n",
    "\n",
    "# Calculate prediction values\n",
    "predict_var = []\n",
    "for x1, x2 in zip(x1_sample, x2_sample):\n",
    "    x0 = np.array([1, x1, x2])\n",
    "    predict_var += [e_var_est * (1 + x0.T @ np.linalg.inv(X.T@X) @ x0)]\n",
    "predict_std = np.array(predict_var)**0.5\n",
    "\n",
    "predict_ci = predict.reshape(-1,1) + predict_std.reshape(-1,1) * t.ppf([0.025,0.975], df=n-p)\n",
    "\n",
    "# Display results\n",
    "print(\"For the point ({}, {}) the confidence intervals are:\\n\".format(x1_sample[0], x2_sample[0]),\n",
    "      \"\\nObserved y: {}\".format(y_sample[0]),\n",
    "      \"\\n\\nMean response:\\n{}\".format(mean_response_ci[0]),\n",
    "      \"\\n\\nPrediction:\\n{}\".format(predict_ci[0])\n",
    "     )"
   ]
  },
  {
   "cell_type": "markdown",
   "id": "277d0eaa",
   "metadata": {},
   "source": [
    "## 2.9] Cálculo con librerías\n",
    "    - A continuación se ejecuta una librería para realizar los cálculos de manera automática y se presenta el\n",
    "    output para su interpretación"
   ]
  },
  {
   "cell_type": "code",
   "execution_count": 80,
   "id": "c7f39c7b",
   "metadata": {},
   "outputs": [
    {
     "name": "stdout",
     "output_type": "stream",
     "text": [
      "                            OLS Regression Results                            \n",
      "==============================================================================\n",
      "Dep. Variable:                      y   R-squared:                       0.642\n",
      "Model:                            OLS   Adj. R-squared:                  0.553\n",
      "Method:                 Least Squares   F-statistic:                     7.176\n",
      "Date:                Thu, 02 May 2024   Prob (F-statistic):             0.0164\n",
      "Time:                        20:12:28   Log-Likelihood:                -25.627\n",
      "No. Observations:                  11   AIC:                             57.25\n",
      "Df Residuals:                       8   BIC:                             58.45\n",
      "Df Model:                           2                                         \n",
      "Covariance Type:            nonrobust                                         \n",
      "==============================================================================\n",
      "                 coef    std err          t      P>|t|      [0.025      0.975]\n",
      "------------------------------------------------------------------------------\n",
      "x1_sample     -2.0000      1.198     -1.669      0.134      -4.764       0.764\n",
      "x2_sample     -0.5000      0.599     -0.834      0.428      -1.882       0.882\n",
      "const         14.0000      6.095      2.297      0.051      -0.055      28.055\n",
      "==============================================================================\n",
      "Omnibus:                        1.843   Durbin-Watson:                   2.397\n",
      "Prob(Omnibus):                  0.398   Jarque-Bera (JB):                1.037\n",
      "Skew:                          -0.426   Prob(JB):                        0.595\n",
      "Kurtosis:                       1.760   Cond. No.                         62.2\n",
      "==============================================================================\n",
      "\n",
      "Notes:\n",
      "[1] Standard Errors assume that the covariance matrix of the errors is correctly specified.\n"
     ]
    }
   ],
   "source": [
    "# Mute warnings\n",
    "warnings.filterwarnings(\"ignore\", category=Warning)\n",
    "\n",
    "# Fit and summarize OLS model\n",
    "mod = sm.OLS(y_sample, sm.add_constant(df_data[[\"x1_sample\",\"x2_sample\"]], prepend=False))\n",
    "res = mod.fit()\n",
    "print(res.summary())"
   ]
  }
 ],
 "metadata": {
  "kernelspec": {
   "display_name": "Python 3 (ipykernel)",
   "language": "python",
   "name": "python3"
  },
  "language_info": {
   "codemirror_mode": {
    "name": "ipython",
    "version": 3
   },
   "file_extension": ".py",
   "mimetype": "text/x-python",
   "name": "python",
   "nbconvert_exporter": "python",
   "pygments_lexer": "ipython3",
   "version": "3.7.11"
  }
 },
 "nbformat": 4,
 "nbformat_minor": 5
}
