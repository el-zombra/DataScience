{
 "cells": [
  {
   "cell_type": "markdown",
   "id": "5d676b0a",
   "metadata": {},
   "source": [
    "# Estimación por razón\n",
    "    \n",
    "    - Se puede mejorar la estimación muestral de una variable cuando existe información censada, ya sea la misma variable en un periodo anterior u otra variable correlacionada.\n",
    "    - La mejora en la estimación se consigue a través del coste del censo para obtener la variable adicional\n",
    "    - Este método asume que la línea de regresión entre las dos variables pasa por el origen\n",
    "    - Así mismo, el método es un caso específico de la estimación por regresión (en la cuál se puede relajar la restricción del origen y utilizar más de una variable"
   ]
  },
  {
   "cell_type": "markdown",
   "id": "1c2f336f",
   "metadata": {},
   "source": [
    "### 1] Generar una muestra sintética\n",
    "    - Con parámetros y colinealidad arbitrarios"
   ]
  },
  {
   "cell_type": "code",
   "execution_count": 89,
   "id": "117cc0aa",
   "metadata": {},
   "outputs": [],
   "source": [
    "import pandas as pd\n",
    "import numpy as np\n",
    "from scipy.stats import t\n",
    "\n",
    "# Settings\n",
    "n = 30\n",
    "N = 200\n",
    "confidence = 0.95\n",
    "\n",
    "# Generate population\n",
    "index_name = [\"ind \"+str(i+1) for i in range(N)]\n",
    "df_population = pd.DataFrame(index=index_name)\n",
    "df_population[\"height\"] = np.round(np.random.normal(loc=170, scale=8, size=N),2)\n",
    "df_population[\"weight\"] = np.round(df_population[\"height\"] - np.random.uniform(low=95, high=100, size=N), 1)\n",
    "\n",
    "# Calculate population data\n",
    "r_pop = df_population[\"weight\"].mean() / df_population[\"height\"].mean()\n",
    "\n",
    "# Select sample\n",
    "df_sample = df_population.sample(n=n, replace=False)"
   ]
  },
  {
   "cell_type": "markdown",
   "id": "1db8de10",
   "metadata": {},
   "source": [
    "### 2] Estimar la razón\n",
    "\n",
    "    - La razón se define como la proporcionalidad o, de cierta forma, la correlación que existe entre la media de dos variables:\n",
    "\n",
    "        R = y_mean / x_mean = sum(y) / sum(x)\n",
    "        donde:\n",
    "            x ex una variable censada para la cual se conoce N, s, mean\n",
    "            y es una variable que ha sido sujeta a muestreo. En ocasiones y es x en un tiempo distinto\n",
    "\n",
    "    - La varianza del estimador es:\n",
    "        V(R) = (1-n/N) * 1/n * 1/x_mean^2 * 1/(n-1) * sum( (y_i - R*x_i)^2)\n",
    "        donde:\n",
    "            x_i es para la variable muestrada\n",
    "        \n",
    "    - Cuando n es grande se utiliza la función normal para definir los intervalos de confianza, mientras que cuando n es pequeña, se usa tStuden con n-2 grados de libertad (uno por cada variable)"
   ]
  },
  {
   "cell_type": "code",
   "execution_count": 90,
   "id": "692ab82d",
   "metadata": {},
   "outputs": [
    {
     "name": "stdout",
     "output_type": "stream",
     "text": [
      "La razón entre peso y altura es de: 0.42\n",
      "La razón se estima un valor entre [0.411 0.43 ]\n",
      "La razón poblacional es: 0.426\n"
     ]
    }
   ],
   "source": [
    "# Height is considered as X, while weight as Y\n",
    "\n",
    "# Estimate ratio\n",
    "r_sample = df_sample[\"weight\"].mean() / df_sample[\"height\"].mean()\n",
    "print(\"La razón entre peso y altura es de: \"+str(round(r_sample,3)))\n",
    "\n",
    "# Estimate confidence intervals\n",
    "x_mean = df_sample[\"height\"].mean()\n",
    "r_var = (1-n/N) * 1/n * 1/x_mean**2 * 1/(n-1) * sum((df_sample[\"weight\"] - r_sample*df_sample[\"height\"])**2)\n",
    "r_std = r_var**0.5\n",
    "r_interval =  r_sample + r_std*t(df=n-1).ppf((0.5-confidence/2, 0.5+confidence/2))\n",
    "print(\"La razón se estima un valor entre\", np.round(r_interval,3))\n",
    "print(\"La razón poblacional es: \"+str(round(r_pop,3)))"
   ]
  },
  {
   "cell_type": "markdown",
   "id": "8700df83",
   "metadata": {},
   "source": [
    "### 3] Mejorar la estimación de la media con la razón\n",
    "    - Uno de las objetivos principales de la estimación por razón es disminuir la varianza en la estimación de los parámetros.\n",
    "    - La estimación mejorada de la media es:\n",
    "        mean = R * X_mean\n",
    "        donde:\n",
    "            R es el estimado en el paso anterior\n",
    "            X_mean es la media en la variable censada (no la de la muestra)\n",
    "            \n",
    "    - La varianza del estimador mejorado es:\n",
    "        V(mean) = (1-n/N) * 1/n * 1/(n-1) * sum( (y_i - R*x_i)^2 )\n",
    "        donde:\n",
    "            x_i es para la variable muestrada"
   ]
  },
  {
   "cell_type": "code",
   "execution_count": 91,
   "id": "3af7c8b6",
   "metadata": {},
   "outputs": [
    {
     "name": "stdout",
     "output_type": "stream",
     "text": [
      "Populatio\n",
      "mean: 72.55\n",
      "\n",
      "SRS\n",
      "mean: 70.81 | mean_std: 1.33 | interval: [68.09 73.53]\n",
      "\n",
      "Ratio\n",
      "mean: 71.61 | mean_std: 0.77 | interval: [70.02 73.19]\n"
     ]
    }
   ],
   "source": [
    "# Height is considered as X, while weight as Y\n",
    "print(\"Populatio\\nmean: \"+str(round(df_population[\"weight\"].mean(),2)))\n",
    "\n",
    "# Estimation usin SRS\n",
    "mean = df_sample[\"weight\"].mean()\n",
    "mean_var = (1- n/N) * df_sample[\"weight\"].var(ddof=1) / n\n",
    "mean_std = mean_var**0.5\n",
    "mean_interval =  mean + mean_std*t(df=n-1).ppf((0.5-confidence/2, 0.5+confidence/2))\n",
    "print(\"\\nSRS\\nmean: \"+str(round(mean,2))+\" | mean_std: \"+str(round(mean_std,2))+\" | interval: \"+str(np.round(mean_interval,2)))\n",
    "\n",
    "\n",
    "# Improve estimation\n",
    "mean = r_sample * df_population[\"height\"].mean()\n",
    "mean_var = (1-n/N) * 1/n * 1/(n-1) * sum((df_sample[\"weight\"] - r_sample*df_sample[\"height\"])**2)\n",
    "mean_std = mean_var**0.5\n",
    "mean_interval = mean + mean_std*t(df=n-1).ppf((0.5-confidence/2, 0.5+confidence/2))\n",
    "print(\"\\nRatio\\nmean: \"+str(round(mean,2))+\" | mean_std: \"+str(round(mean_std,2))+\" | interval: \"+str(np.round(mean_interval,2)))"
   ]
  },
  {
   "cell_type": "markdown",
   "id": "873f974a",
   "metadata": {},
   "source": [
    "### 4] Mejorar la estimación del TOTAL con la razón\n",
    "\n",
    "    - La estimación mejorada del total es:\n",
    "        total = R * X\n",
    "            donde:\n",
    "                R es el estimado de la razón sum(sum_yi) / sum(x_i)\n",
    "                X es el total censado para la variable auxiliar\n",
    "       \n",
    "    - La varianza del estimador mejorado es:\n",
    "            V(mean) = N^2 * (1-n/N) * 1/n * 1/(n-1) * sum( (y_i - R*x_i)^2 )\n",
    "            donde:\n",
    "                x_i es para la variable muestreada"
   ]
  },
  {
   "cell_type": "code",
   "execution_count": 92,
   "id": "f8b61e6d",
   "metadata": {},
   "outputs": [
    {
     "name": "stdout",
     "output_type": "stream",
     "text": [
      "Populatio\n",
      "total: 14510.5\n",
      "\n",
      "SRS\n",
      "total: 14162.0 | mean_std: 265.61 | interval: [13618.77 14705.23]\n",
      "\n",
      "Ratio\n",
      "total: 14321.14 | total_std: 154.92 | interval: [14004.31 14637.98]\n"
     ]
    }
   ],
   "source": [
    "# Height is considered as X, while weight as Y\n",
    "print(\"Populatio\\ntotal: \"+str(round(df_population[\"weight\"].sum(),2)))\n",
    "\n",
    "# Estimation using SRS\n",
    "total = N/n * df_sample[\"weight\"].sum()\n",
    "total_var = N**2 * (1-n/N) * df_sample[\"weight\"].var(ddof=1)/n\n",
    "total_std = total_var**0.5\n",
    "total_interval = total + total_std*t(df=n-1).ppf((0.5-confidence/2, 0.5+confidence/2))\n",
    "print(\"\\nSRS\\ntotal: \"+str(round(total,2))+\" | mean_std: \"+str(round(total_std,2))+\" | interval: \"+str(np.round(total_interval,2)))\n",
    "\n",
    "# Improve estimation\n",
    "total = r_sample * df_population[\"height\"].sum()\n",
    "total_var = N**2 * (1-n/N) * 1/n * 1/(n-1) * sum((df_sample[\"weight\"] - r_sample*df_sample[\"height\"])**2)\n",
    "total_std = total_var**0.5\n",
    "total_interval = total + total_std*t(df=n-1).ppf((0.5-confidence/2, 0.5+confidence/2))\n",
    "print(\"\\nRatio\\ntotal: \"+str(round(total,2))+\" | total_std: \"+str(round(total_std,2))+\" | interval: \"+str(np.round(total_interval,2)))"
   ]
  }
 ],
 "metadata": {
  "kernelspec": {
   "display_name": "Python 3 (ipykernel)",
   "language": "python",
   "name": "python3"
  },
  "language_info": {
   "codemirror_mode": {
    "name": "ipython",
    "version": 3
   },
   "file_extension": ".py",
   "mimetype": "text/x-python",
   "name": "python",
   "nbconvert_exporter": "python",
   "pygments_lexer": "ipython3",
   "version": "3.7.11"
  }
 },
 "nbformat": 4,
 "nbformat_minor": 5
}
