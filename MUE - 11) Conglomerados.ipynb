{
 "cells": [
  {
   "cell_type": "markdown",
   "id": "c4635807",
   "metadata": {},
   "source": [
    "## Muestreo de conglomerados (una etapa)\n",
    "    - Un conglomerado es un conjunto de elementos de la población\n",
    "\n",
    "    - El muestreo de conglomerados consiste en hacer un m.a.s. de éstos conjuntos para censar a los elementos dentro de ellos.\n",
    "    \n",
    "    - Se emplea debido a que posiblemente no exista un marco de los elementos de la poblaciñon. Es menos costoso cuando la distancia entre elementos incrementa el costo de la encuesta. Por ejemplo, es más fácil censar múltiples casas dentro de una manzana que hacer un m.a.s de casas dispersas por toda la ciudad. En el mismo ejemplo, es más fáctible que se tenga un marco de manzanas a que uno de casas\n",
    "    \n",
    "    - A diferencia del muestreo estratificado, en conglomerados se prefiere que existe heterogeneidad en los elementos dentro, es decir, que se maximice la varianza al interior y se minimice entre ellas.\n",
    "    \n",
    "    - Nomenclatura. Nota: Observe que no se considera m_i, pues se supone que cada conglomerado es censado.\n",
    "        \n",
    "        N: # de conglomerados en la población\n",
    "        n: # de conglomerados en la muestra\n",
    "        M_i: # total de elementos en el conglomerado i\n",
    "        y_ij: Medición del elemento j en el conglomerado i\n",
    "        mean: Media por conglomerado\n",
    "        mean_i: Media por elemento del conglomerado i\n",
    "        S_b^2: Varianza observada (between) entre conglomerados\n",
    "        S_w_i^2: Varianza observada (within) dentro del conglomerado i\n",
    "        \n",
    "        "
   ]
  },
  {
   "cell_type": "markdown",
   "id": "c0977e61",
   "metadata": {},
   "source": [
    "### Conclusiones\n",
    "    - S_b^2 es la varianza entre conglomerados, la cuál mide que tan diferentes son cada conglomerados entre sí. Para que el muestreo por conglomerados sea bueno, se requiere que S_b^2 sea bajo.\n",
    "    \n",
    "    - Estimar el total por empleando conglomerados es dependiente de M_i, ya que si se tienen tamaños heterogeneos entre conglomerados, la estimación no será buena.\n",
    "    \n",
    "    - Los estimadores usuales de la media por elemento y total poblacional son insesgados, pero usualmente tienen varianzas grandes, por lo que se prefieren los estimadores de razón"
   ]
  },
  {
   "cell_type": "markdown",
   "id": "d475b02c",
   "metadata": {},
   "source": [
    "### 1] Definir una población"
   ]
  },
  {
   "cell_type": "code",
   "execution_count": 581,
   "id": "dbaea40e",
   "metadata": {
    "scrolled": false
   },
   "outputs": [
    {
     "name": "stdout",
     "output_type": "stream",
     "text": [
      "====================================================================================================\n",
      "POPULATION\n",
      "\n",
      "Mean: 100.0\n",
      "Total: 34400.0\n",
      "Proportion: 0.49\n",
      "====================================================================================================\n"
     ]
    }
   ],
   "source": [
    "import numpy as np\n",
    "import pandas as pd\n",
    "from scipy.stats import norm\n",
    "import seaborn as sns\n",
    "\n",
    "# Settings\n",
    "N = 25\n",
    "n = 3\n",
    "M = np.random.randint(low=5, high=21, size=N)\n",
    "confidence = 0.95\n",
    "\n",
    "# Define population dataframe\n",
    "df_population = pd.DataFrame()\n",
    "cluster = np.repeat([i for i in range(N)], M)\n",
    "df_population[\"cluster\"] = cluster\n",
    "temporal = np.array([])\n",
    "for i in range(N):\n",
    "    temporal = np.concatenate((temporal, norm.rvs(loc=100,scale=25,size=M[i])))\n",
    "df_population[\"value\"] = temporal\n",
    "\n",
    "# Force cluster mean around 100\n",
    "mean = np.array(df_population.groupby([\"cluster\"]).mean())\n",
    "goal = norm.rvs(loc=100,scale=2,size=N)\n",
    "for i in range(N):\n",
    "    df_population.loc[cluster==i,\"value\"] = (goal[i]/mean[i] *\n",
    "        df_population.loc[cluster==i,\"value\"])\n",
    "    \n",
    "# Force mean by element equal to 100\n",
    "df_population[\"value\"] = 100/df_population[\"value\"].mean(0) * df_population[\"value\"]\n",
    "df_population[\"proportion\"] = np.where(df_population[\"value\"] >= df_population[\"value\"].mean(0),1,0)\n",
    "\n",
    "\n",
    "\n",
    "# Output\n",
    "print(\"=\"*100)\n",
    "print(\"POPULATION\")\n",
    "print(\"\\nMean:\", np.round(df_population[\"value\"].mean(0),2))\n",
    "print(\"Total:\", np.round(df_population[\"value\"].sum(0),2))\n",
    "print(\"Proportion:\", np.round(df_population[\"proportion\"].mean(0),2))\n",
    "print(\"=\"*100)"
   ]
  },
  {
   "cell_type": "code",
   "execution_count": 582,
   "id": "d7fefe07",
   "metadata": {},
   "outputs": [
    {
     "data": {
      "text/plain": [
       "[Text(0.5, 1.0, 'Heterogeneity within. Homogeneity between.')]"
      ]
     },
     "execution_count": 582,
     "metadata": {},
     "output_type": "execute_result"
    },
    {
     "data": {
      "image/png": "[encoded data removed]",
      "text/plain": [
       "<Figure size 432x288 with 1 Axes>"
      ]
     },
     "metadata": {
      "needs_background": "light"
     },
     "output_type": "display_data"
    }
   ],
   "source": [
    "# Plot population\n",
    "sns.boxplot(data=df_population, x=\"cluster\", y=\"value\").set(\n",
    "            title=\"Heterogeneity within. Homogeneity between.\")"
   ]
  },
  {
   "cell_type": "markdown",
   "id": "6c37b46c",
   "metadata": {},
   "source": [
    "### 2] Estimación con m.a.s.\n",
    "    - Para fines comparativos"
   ]
  },
  {
   "cell_type": "code",
   "execution_count": 583,
   "id": "f583c8d5",
   "metadata": {
    "scrolled": true
   },
   "outputs": [
    {
     "name": "stdout",
     "output_type": "stream",
     "text": [
      "====================================================================================================\n",
      "SRS - Using elements\n",
      "\n",
      "Mean:  104.29\n",
      "SE(Mean):  3.81\n",
      "CI(Mean):  [ 96.82 111.76]\n",
      "\n",
      "Total:  35874.86\n",
      "SE(Total):  1310.85\n",
      "CI(Total):  [33305.64 38444.08]\n",
      "====================================================================================================\n"
     ]
    }
   ],
   "source": [
    "# Define sample size according to expected sample size in cluster sampling\n",
    "M_mean = df_population.shape[0]/N\n",
    "N_mas = df_population.shape[0]\n",
    "n_mas = int(np.ceil(M_mean*n))\n",
    "\n",
    "# Estimation of mean\n",
    "df_sample = df_population.sample(n=n_mas, random_state=100)\n",
    "mean = df_sample[\"value\"].mean(0)\n",
    "mean_var = (1-n_mas/N_mas) * df_sample[\"value\"].var(0,ddof=1)/n_mas\n",
    "mean_interval = mean + mean_var**0.5*norm.ppf((0.5-confidence/2,0.5+confidence/2))\n",
    "\n",
    "# Estimation of total\n",
    "total = N_mas * df_sample[\"value\"].mean(0)\n",
    "total_var = N_mas**2 * mean_var\n",
    "total_interval = total + total_var**0.5*norm.ppf((0.5-confidence/2,0.5+confidence/2))\n",
    "\n",
    "# Output\n",
    "print(\"=\"*100)\n",
    "print(\"SRS - Using elements\")\n",
    "print(\"\\nMean: \", round(mean,2))\n",
    "print(\"SE(Mean): \",round(mean_var**0.5,2))\n",
    "print(\"CI(Mean): \", np.round(mean_interval,2))\n",
    "print(\"\\nTotal: \", round(total,2))\n",
    "print(\"SE(Total): \",round(total_var**0.5,2))\n",
    "print(\"CI(Total): \", np.round(total_interval,2))\n",
    "print(\"=\"*100)"
   ]
  },
  {
   "cell_type": "markdown",
   "id": "9e3a1bed",
   "metadata": {},
   "source": [
    "### 3] Estimación de la media por elemento y total poblacional\n",
    "            \n",
    "    - El estimador del total poblacional es:\n",
    "    \n",
    "        total = N * mean\n",
    "            donde:\n",
    "            N: Número total de conglomerados\n",
    "            mean: Media del total por conglomerado\n",
    "            \n",
    "        mean = 1/n * sum[i in n][j in M_i](y_ij)\n",
    "            donde:\n",
    "            y_ij: Medición del elemento j del conglomerado i\n",
    "            \n",
    "        - Con varianza:\n",
    "\n",
    "            V(total) = N^2 * (1-n/N) * 1/n * S_b^2 \n",
    "                donde:\n",
    "                S_b^2: Varianza entre (between) conglomerados\n",
    "\n",
    "            S_b^2 = 1/(n-1) * sum[i in n]((y_i - mean)^2)\n",
    "                donde:\n",
    "                mean: Media del total por conglomerado\n",
    "                y_i: Total observado del conglomerado i\n",
    "\n",
    "    - Cuando se conoce el total poblacional M, la media por elemento se estima como:\n",
    "\n",
    "        mean_e = 1/M * N/n * sum[i in n](y_i)\n",
    "            donde:\n",
    "            mean_e = Estimador de la media por elemento\n",
    "            M: Total de elementos en la población\n",
    "            y_i: Total observado en el conglomerado i\n",
    "            \n",
    "        - Con varianza:\n",
    "            \n",
    "            V(mean_e) = 1/M^2 * V(total)\n",
    "                donde:\n",
    "                V(total): Varianza del estimador del total"
   ]
  },
  {
   "cell_type": "code",
   "execution_count": 584,
   "id": "f49bf9a3",
   "metadata": {
    "scrolled": true
   },
   "outputs": [
    {
     "name": "stdout",
     "output_type": "stream",
     "text": [
      "====================================================================================================\n",
      "Cluster sampling - Usual estimators\n",
      "\n",
      "Mean:  100.37\n",
      "SE(Mean):  35.41\n",
      "CI(Mean):  [ 30.97 169.78]\n",
      "\n",
      "Total:  34528.45\n",
      "SE(Total):  12181.69\n",
      "CI(Total):  [10652.77 58404.13]\n",
      "====================================================================================================\n"
     ]
    }
   ],
   "source": [
    "import random\n",
    "\n",
    "# Select a sample\n",
    "random.seed(100)\n",
    "mask = random.sample([i for i in range(N)], n)\n",
    "df_sample = df_population[df_population[\"cluster\"].isin(mask)].copy()\n",
    "\n",
    "# Estimate total\n",
    "mean = 1/n * df_sample[\"value\"].sum(0)\n",
    "total = N * mean\n",
    "S_b = df_sample.groupby([\"cluster\"]).sum(0).var(0,ddof=1)[\"value\"]\n",
    "total_var = N**2 * (1-n/N) * 1/n * S_b\n",
    "total_interval = total + total_var**0.5*norm.ppf((0.5-confidence/2,0.5+confidence/2))\n",
    "\n",
    "# Estimate mean by element\n",
    "mean_e = 1/M.sum(0) * N/n * df_sample[\"value\"].sum(0)\n",
    "mean_e_var = 1/M.sum(0)**2 * total_var\n",
    "mean_e_interval = mean_e + mean_e_var**0.5*norm.ppf((0.5-confidence/2,0.5+confidence/2))\n",
    "\n",
    "# Output\n",
    "print(\"=\"*100)\n",
    "print(\"Cluster sampling - Usual estimators\")\n",
    "print(\"\\nMean: \", round(mean_e,2))\n",
    "print(\"SE(Mean): \",round(mean_e_var**0.5,2))\n",
    "print(\"CI(Mean): \", np.round(mean_e_interval,2))\n",
    "print(\"\\nTotal: \", round(total,2))\n",
    "print(\"SE(Total): \",round(total_var**0.5,2))\n",
    "print(\"CI(Total): \", np.round(total_interval,2))\n",
    "print(\"=\"*100)"
   ]
  },
  {
   "cell_type": "markdown",
   "id": "55ba2087",
   "metadata": {},
   "source": [
    "### 4] Estimadores de razón\n",
    "    - Para reducir la incertidumbre es preferible utilizar estimadores de razón, los cuales ajustan los resultados, pues estiman el total a la vez que el número de elementos dentro de cada conglomerado.\n",
    "    \n",
    "    - La media por elemento se estima como:\n",
    "        \n",
    "        mean_e = sum[i in n](y_i) / sum[i in n](M_i)\n",
    "            donde:\n",
    "            y_i: Total observado en el conglomerado i\n",
    "            M_i: Número de elementos en el conglomerado i\n",
    "        \n",
    "    - Con varianza:\n",
    "        \n",
    "        V(mean_e) = (1-n/N) * 1/n * 1/M_m^2 * sum[i in n]( (y_i - mean_e*M_i)^2 / (n-1) )\n",
    "            donde:\n",
    "            M_m: Media observada del número de elementos en los conglomerados\n",
    "            y_i: Total observado en el conglomerado i\n",
    "            mean_e: Media por elemento calculada por razón\n",
    "            M_i: Número de elementos en el conglomerado i\n",
    "            \n",
    "    - El total poblacional se estima como:\n",
    "    \n",
    "        total = M * mean_e\n",
    "            donde:\n",
    "            M: Total de elementos en la población\n",
    "            mean_e: Estimador de la media por elemento\n",
    "            \n",
    "    - Con varianza:\n",
    "    \n",
    "        V(total) = M^2 * V(mean_e)\n",
    "            donde:\n",
    "            M: Total de elementos en la población\n",
    "            V(mean_e): Calculada anteriormente"
   ]
  },
  {
   "cell_type": "code",
   "execution_count": 585,
   "id": "05b60ed6",
   "metadata": {},
   "outputs": [
    {
     "name": "stdout",
     "output_type": "stream",
     "text": [
      "====================================================================================================\n",
      "Cluster sampling - Ratio estimators\n",
      "\n",
      "Mean:  98.65\n",
      "SE(Mean):  1.01\n",
      "CI(Mean):  [ 96.67 100.63]\n",
      "\n",
      "Total:  33936.54\n",
      "SE(Total):  347.59\n",
      "CI(Total):  [10652.77 58404.13]\n",
      "====================================================================================================\n"
     ]
    }
   ],
   "source": [
    "# Estimate mean by element\n",
    "mean_e = df_sample[\"value\"].sum(0) / df_sample.shape[0]\n",
    "M_m = df_sample.groupby([\"cluster\"])[\"value\"].count().mean(0)\n",
    "sum_i = df_sample.groupby([\"cluster\"])[\"value\"].sum()\n",
    "count_i = df_sample.groupby([\"cluster\"])[\"value\"].count()\n",
    "mean_e_var = (1-n/N) * 1/n * 1/M_m**2 * ( (sum_i-mean_e*count_i)**2 / (n-1) ).sum()\n",
    "mean_e_interval = mean_e + mean_e_var**0.5*norm.ppf((0.5-confidence/2,0.5+confidence/2))\n",
    "\n",
    "# Estimate total\n",
    "total = M.sum(0) * mean_e\n",
    "total_var = M.sum(0)**2 * mean_e_var\n",
    "\n",
    "\n",
    "\n",
    "# Output\n",
    "print(\"=\"*100)\n",
    "print(\"Cluster sampling - Ratio estimators\")\n",
    "print(\"\\nMean: \", round(mean_e,2))\n",
    "print(\"SE(Mean): \",round(mean_e_var**0.5,2))\n",
    "print(\"CI(Mean): \", np.round(mean_e_interval,2))\n",
    "print(\"\\nTotal: \", round(total,2))\n",
    "print(\"SE(Total): \",round(total_var**0.5,2))\n",
    "print(\"CI(Total): \", np.round(total_interval,2))\n",
    "print(\"=\"*100)"
   ]
  },
  {
   "cell_type": "markdown",
   "id": "babeba24",
   "metadata": {},
   "source": [
    "### 5] Tamaño de muestra\n",
    "\n",
    "    - El tamaño de muestra sigue los estimadores usuales y no los de razón\n",
    "    \n",
    "    - Este cálculo se realiza a partir de una muestra piloto que permita calcular estimadores inciales\n",
    "    \n",
    "    - El tamaño de muestra, en número de estratos se define como:\n",
    "    \n",
    "        n = N*S_b^2 /( N*delta^2*M_m^2/z_c^2 + S_b^2)\n",
    "            donde:\n",
    "            delta: Precisión deseada\n",
    "            z_c: Inversa de la normal para la confianza deseada\n",
    "            M_m: Número de elementos promedio en los conglomerados\n",
    "            S_b^2: Varianza entre (between) conglomerados\n",
    "\n",
    "    - La precisión puede calcularse con la siguiente fórmula o puede darse como un número fijo.\n",
    "    \n",
    "        delta^2 = z_c^2 * (1/n-1/N) * 1/M_m^2 * S_b^2\n",
    "            Nota: Observe que se pide n, que es lo que se quiere calcular, sin embargo, se refiere a\n",
    "            la de la muestra piloto"
   ]
  },
  {
   "cell_type": "code",
   "execution_count": 604,
   "id": "9b9a24dc",
   "metadata": {},
   "outputs": [
    {
     "name": "stdout",
     "output_type": "stream",
     "text": [
      "====================================================================================================\n",
      "El número de conglomerados por muestrear es: 4.0\n",
      "====================================================================================================\n"
     ]
    }
   ],
   "source": [
    "# Previous code\n",
    "z_c = norm.ppf(0.5+confidence/2)\n",
    "M_m = df_sample.groupby([\"cluster\"])[\"value\"].count().mean(0)\n",
    "S_b = df_sample.groupby([\"cluster\"])[\"value\"].sum(0).var(0,ddof=1)\n",
    "\n",
    "# Calculate sample size\n",
    "delta = 50\n",
    "# delta = ( z_c**2 * (1/n-1/N) * 1/M_m**2 * S_b )**0.5\n",
    "n_sample = N*S_b / ( N*delta**2*M_m**2 / z_c**2 + S_b )\n",
    "\n",
    "# Output\n",
    "print(\"=\"*100)\n",
    "print(\"El número de conglomerados por muestrear es:\",np.ceil(n_sample))\n",
    "print(\"=\"*100)"
   ]
  }
 ],
 "metadata": {
  "kernelspec": {
   "display_name": "Python 3 (ipykernel)",
   "language": "python",
   "name": "python3"
  },
  "language_info": {
   "codemirror_mode": {
    "name": "ipython",
    "version": 3
   },
   "file_extension": ".py",
   "mimetype": "text/x-python",
   "name": "python",
   "nbconvert_exporter": "python",
   "pygments_lexer": "ipython3",
   "version": "3.7.11"
  }
 },
 "nbformat": 4,
 "nbformat_minor": 5
}
