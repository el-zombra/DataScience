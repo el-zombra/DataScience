{
 "cells": [
  {
   "cell_type": "markdown",
   "id": "d489d0e8-2322-4783-bb69-1c2f66a921a9",
   "metadata": {},
   "source": [
    "# **GADAC - 02) Analysis of variance (ANOVA)**\n",
    "\n",
    "A group of statistica techniques that test the dofference of means between groups. ANOVA testing is useful when is wanted to test a hypothesis about group differences based on ctegorical independent variables. The intuition begind ANOVA is to compare the variability BETWEEN different groupswith the variability WITHIN the groups. If they are comparable, then the differences between groups are more likely to be due to sampling variability. The variation between and within groups is calculated as sums of squares, which are then expressed as a ratio. The ratio is known as the F-statistic.\n",
    "\n",
    "**References:**  \n",
    "Google Advanced Data Analytics Certificate. Course 5 Module 3"
   ]
  },
  {
   "cell_type": "markdown",
   "id": "bfccb35b-8c85-4fb8-86ad-1e49e57b9f3e",
   "metadata": {},
   "source": [
    "## **2.1) Define a dataset**"
   ]
  },
  {
   "cell_type": "code",
   "execution_count": 35,
   "id": "e4c79ee4-1582-419f-b3fc-40499eeb2432",
   "metadata": {},
   "outputs": [],
   "source": [
    "import pandas as pd\n",
    "import numpy as np\n",
    "import matplotlib.pyplot as plt\n",
    "import scipy.stats as stats\n",
    "import statsmodels.api as sm\n",
    "from statsmodels.formula.api import ols\n",
    "import seaborn as sns\n",
    "from statsmodels.stats.multicomp import pairwise_tukeyhsd\n",
    "import statsmodels.stats.multicomp as multi"
   ]
  },
  {
   "cell_type": "code",
   "execution_count": 2,
   "id": "f8e5c400-c480-4566-b611-79a3425123d1",
   "metadata": {},
   "outputs": [
    {
     "name": "stdout",
     "output_type": "stream",
     "text": [
      "====================================================================================================\n",
      "        Program  Score\n",
      "Student               \n",
      "1             A   82.0\n",
      "2             A   69.0\n",
      "3             A   84.0\n",
      "4             A   81.0\n",
      "5             B   89.0\n",
      "6             B   95.0\n",
      "7             B   95.0\n",
      "8             B   79.0\n",
      "9             C   84.0\n",
      "10            C   91.0\n",
      "11            C   86.0\n",
      "12            C   90.0\n",
      "====================================================================================================\n"
     ]
    }
   ],
   "source": [
    "# Define parameters\n",
    "mean_1 = 80\n",
    "mean_2 = 90\n",
    "mean_3 = 90\n",
    "std = 5\n",
    "\n",
    "# Create dataframe\n",
    "df_data = pd.DataFrame({\"Program\": [\"A\"]*4 + [\"B\"]*4 + [\"C\"]*4,\n",
    "    \"Score\": np.concatenate([stats.norm.rvs(mean_1,std,4), stats.norm.rvs(mean_2, std, 4), stats.norm.rvs(mean_3, std, 4)]).round(0)},\n",
    "    index=[i for i in range(1,13)])\n",
    "df_data.index.name = \"Student\"\n",
    "\n",
    "# Block breaker\n",
    "print(\"=\"*100)\n",
    "print(df_data)\n",
    "print(\"=\"*100)"
   ]
  },
  {
   "cell_type": "markdown",
   "id": "98c3bfc8-f96f-45dc-8e80-6ff708ae92f2",
   "metadata": {},
   "source": [
    "## **2.2) One-way ANOVA**"
   ]
  },
  {
   "cell_type": "markdown",
   "id": "f16d6468-2c70-4963-8528-91d90ea4e488",
   "metadata": {},
   "source": [
    "Compares the means of one continuous dependent variable based on three or more groups of **one** categorical variable.\n",
    "\n",
    "Given three groups $\\{A, B, C\\}$, the null hypothesis states that the mean for all groups is the same. If only one mean differs, is sufficient evidence to reject the null hypothesis. The alternative hypothesis states that not all the means are equal.\n",
    "\n",
    "> $H_0: \\mu_A = \\mu_B = \\mu_C$  \n",
    "> $H_1: \\mu_i \\neq \\mu_j$ $\\textit{for at least one pair of i,j}$\n",
    "\n",
    "The test statistic is computed as follows and it's compared to the F-distribution:\n",
    "> $F = \\dfrac{MSSB}{MSSW} \\sim \\displaystyle F_{(k-1,n-k)}$\n",
    "\n",
    "Where:  \n",
    "> $MSSB = \\dfrac{SSB}{k-1} \\quad$ and $\\quad SSB = \\displaystyle \\sum_{g=1}^k n_g(M_g - M_G)^2 \\qquad$ Given that there are $k$ groups. $n_g$ is the numebr of elements in group $g$ , $M_g$ is the mean within group $g$ and $M_G$ is the mean of all the elements within all groups.\n",
    ">     \n",
    "> $MSSW = \\dfrac{SSW}{n-k} \\quad$ $\\quad SSW = \\left[ \\displaystyle \\sum_{g=1}^k \\sum_{i=1}^{n_g} (x_{gi} - M_g)^2 \\right] - SSB$\n",
    "\n",
    "**Assumptions:**  \n",
    "> - **The dependent values for each group come from normal distributions**  \n",
    "_Note that this does NOT mean that all of the dependent values, taken together, must be normally distributed._  \n",
    "> - **The variances across groups are equal**  \n",
    "_The variance around the means of each group is the same for all of them_  \n",
    "> - **Observations are independent of each other**  \n",
    "_Assumes that one obdservation does not influence or predict any other observation._"
   ]
  },
  {
   "cell_type": "code",
   "execution_count": 3,
   "id": "70d24484-0c21-4b78-aaca-03e4593a9d89",
   "metadata": {},
   "outputs": [
    {
     "name": "stdout",
     "output_type": "stream",
     "text": [
      "====================================================================================================\n",
      "pvalue: 0.0825\n",
      "Thus, the null hypothesis is  rejected \n",
      "It means that not all the means are equal \n",
      "====================================================================================================\n"
     ]
    }
   ],
   "source": [
    "# Number of groups and number of observations\n",
    "k = df_data[\"Program\"].unique().shape[0]\n",
    "n = df_data.shape[0]\n",
    "\n",
    "# Compute mean sum of squares BETWEEN groups\n",
    "mean_by_group = df_data.groupby(\"Program\").mean().values\n",
    "count_by_group = df_data.groupby(\"Program\").count().values\n",
    "mean = df_data[\"Score\"].mean()\n",
    "ssb = ((mean_by_group - mean)**2 * count_by_group).sum()\n",
    "mssb =  ssb / (k-1)\n",
    "\n",
    "# Compute mean sum of squares WITHIN groups\n",
    "ssw = (((df_data[\"Score\"] - mean)**2).sum() - ssb)\n",
    "mssw = ssw / (n-k)\n",
    "\n",
    "# Compute F statistic and pvalue\n",
    "stat = mssb / mssw\n",
    "pvalue = 1 - stats.f(dfn=k-1, dfd=n-k).cdf(stat)\n",
    "\n",
    "# Block breaker\n",
    "print(\"=\"*100+\"\\npvalue: {:.4f}\\nThus, the null hypothesis is  rejected\".format(pvalue),\n",
    "      \"\\nIt means that not all the means are equal\" \n",
    "      ,\"\\n\"+\"=\"*100)"
   ]
  },
  {
   "cell_type": "markdown",
   "id": "4c8ba164-8a37-49c6-9960-9335b8a11b5b",
   "metadata": {},
   "source": [
    "## **2.3) Use of libraries**"
   ]
  },
  {
   "cell_type": "markdown",
   "id": "f2905816-f428-45b1-825e-f3b100f5a8c2",
   "metadata": {},
   "source": [
    "Statsmodels offers predefined funtion to compute one way ANOVA. Note that an OLS model need to be fit in the first place."
   ]
  },
  {
   "cell_type": "code",
   "execution_count": 4,
   "id": "bee081b4-a0fa-42e8-934e-01daf4ccd0c5",
   "metadata": {},
   "outputs": [
    {
     "data": {
      "text/html": [
       "<div>\n",
       "<style scoped>\n",
       "    .dataframe tbody tr th:only-of-type {\n",
       "        vertical-align: middle;\n",
       "    }\n",
       "\n",
       "    .dataframe tbody tr th {\n",
       "        vertical-align: top;\n",
       "    }\n",
       "\n",
       "    .dataframe thead th {\n",
       "        text-align: right;\n",
       "    }\n",
       "</style>\n",
       "<table border=\"1\" class=\"dataframe\">\n",
       "  <thead>\n",
       "    <tr style=\"text-align: right;\">\n",
       "      <th></th>\n",
       "      <th>sum_sq</th>\n",
       "      <th>df</th>\n",
       "      <th>F</th>\n",
       "      <th>PR(&gt;F)</th>\n",
       "    </tr>\n",
       "  </thead>\n",
       "  <tbody>\n",
       "    <tr>\n",
       "      <th>Program</th>\n",
       "      <td>253.166667</td>\n",
       "      <td>2.0</td>\n",
       "      <td>3.333577</td>\n",
       "      <td>0.082535</td>\n",
       "    </tr>\n",
       "    <tr>\n",
       "      <th>Residual</th>\n",
       "      <td>341.750000</td>\n",
       "      <td>9.0</td>\n",
       "      <td>NaN</td>\n",
       "      <td>NaN</td>\n",
       "    </tr>\n",
       "  </tbody>\n",
       "</table>\n",
       "</div>"
      ],
      "text/plain": [
       "              sum_sq   df         F    PR(>F)\n",
       "Program   253.166667  2.0  3.333577  0.082535\n",
       "Residual  341.750000  9.0       NaN       NaN"
      ]
     },
     "execution_count": 4,
     "metadata": {},
     "output_type": "execute_result"
    }
   ],
   "source": [
    "# Adjust model and run one way ANOVA\n",
    "model = ols(formula = \"Score ~ Program\", data=df_data).fit()\n",
    "sm.stats.anova_lm(model, typ=2)"
   ]
  },
  {
   "cell_type": "markdown",
   "id": "1201c593-ea39-46f3-814b-4affc2b6ce6b",
   "metadata": {},
   "source": [
    "## **2.4) Two-way ANOVA**"
   ]
  },
  {
   "cell_type": "markdown",
   "id": "6948bcfd-bd95-4b9f-a31e-93afd78c42bb",
   "metadata": {},
   "source": [
    "Is a statistical technique used to analyze the impact of two independent categorical variable (factors) on a continuous depndent variable. It examines the main effects of each factor separately and aslo considers the interaction effect. If the results show significant main effect, it suggest that the factors independently influence the dependent variable. \n",
    "\n",
    "The three null hypothesis thested are:\n",
    "> $H_0: \\mu_i = \\mu_j$ _for all pairs (i,j) of levels in factor A_  \n",
    "> $H_1:$ _There is a difference in mean based on levels in factor A_\n",
    ">\n",
    "> $H_0: \\mu_i = \\mu_j$ _for all pairs (i,j) of levels in factor B_  \n",
    "> $H_1:$ _There is a difference in mean based on levels in factor B_\n",
    ">\n",
    "> $H_0:$ _The effect of Factor A is independent of levels in Factor B and viceversa_  \n",
    "> $H_1:$ _There is an interaction effect between levesl on Factor A and Factor B_\n",
    "\n",
    "**Assumptions**  \n",
    "> The same as one-way ANOVA.\n",
    "\n",
    "**Comments:**  \n",
    "> - Note that all p-values are small, so the three null hypothesis are rejected"
   ]
  },
  {
   "cell_type": "code",
   "execution_count": 33,
   "id": "28339e5b-4c3f-4d32-b8dd-98482e6e03ad",
   "metadata": {},
   "outputs": [
    {
     "name": "stdout",
     "output_type": "stream",
     "text": [
      "====================================================================================================\n",
      "                       sum_sq       df           F         PR(>F)\n",
      "C(color)          1325.991186      6.0  224.341769  4.300381e-284\n",
      "C(cut)             901.918331      4.0  228.890609  3.250547e-195\n",
      "C(color):C(cut)     96.058742     24.0    4.062996   8.168980e-11\n",
      "Residual         53101.684443  53905.0         NaN            NaN\n",
      "\n",
      "\n",
      "H0: Rejected - The price is not the same for all colors\n",
      "H0: Rejected - The price is not the same for all cuts\n",
      "H0: Rejected - There's an interaction between color and cut that affects the prices\n",
      "====================================================================================================\n"
     ]
    }
   ],
   "source": [
    "# Load a new dataset\n",
    "df_data = sns.load_dataset(\"diamonds\")\n",
    "df_data[\"log_price\"] = np.log(df_data[\"price\"])\n",
    "\n",
    "# Fit model and run ANOVA test\n",
    "model = ols(formula=\"log_price ~ C(color) + C(cut) + C(color):C(cut)\", data=df_data).fit()\n",
    "\n",
    "# Block breaker\n",
    "print(\"=\"*100)\n",
    "print(sm.stats.anova_lm(model, typ=2))\n",
    "print(\"\\n\\nH0: Rejected - The price is not the same for all colors\")\n",
    "print(\"H0: Rejected - The price is not the same for all cuts\")\n",
    "print(\"H0: Rejected - There's an interaction between color and cut that affects the prices\")\n",
    "print(\"=\"*100)"
   ]
  },
  {
   "cell_type": "markdown",
   "id": "9875f9f0-6501-45da-861d-9bef9f66cf07",
   "metadata": {},
   "source": [
    "## **2.5) ANOVA post-hoc test**"
   ]
  },
  {
   "cell_type": "markdown",
   "id": "178c6887-d4b6-4dc4-b4eb-c972bd28960a",
   "metadata": {},
   "source": [
    "After coducting an ANOVA, if it's found that there is a significant difference between the group means, a post-hoc test is used to determine exactly which groups differ from each other. These tests control for the increased risk of Type 1 error. When performing multiple hypothesis testing all the Type 1 errors probabilities  ($\\alpha_i$) adds up and the probability of incurring in a Type 1 error for at least one of the hypothesis tested is practically 50% for 20 hypothesis.\n",
    "\n",
    "The Tukey's Honestly Significant Difference (HSD) test is one of the most popular post-hoc tests. It performas a pairwise comparison between groups and determines for each pair of them if the mean is statistically different from each other. This method is more conservative than some other post-hoc\n",
    "\n",
    "\n",
    "Tukey's test is more conservative than some other post-hoc tests (like the LSD test), which means it is less likely to identify differences as significant when they are not. It is especially useful when you have three or more groups and want to compare all possible pairs of means.\n",
    "\n",
    "\n",
    "\n",
    "Post-Hoc test are used when:\n",
    "> The ANOVA test is significant (p < 0.05).\n",
    "> \n",
    "> You need to determine which specific groups differ from each other.  \n",
    ">  \n",
    "> You want to control for multiple comparisons to avoid Type I error.\n",
    "\n",
    "**Comments:**\n",
    "> After performing a Tuckey's test, it's possible to manually draw groups of equal mean which can be used to refactorize the categorical variable. Other methods allow to perform a non-pairwise comparison, but might not be as robust."
   ]
  },
  {
   "cell_type": "code",
   "execution_count": 6,
   "id": "17fb01e5-9e01-48d3-bdef-7d49efdd6973",
   "metadata": {},
   "outputs": [
    {
     "data": {
      "text/html": [
       "<table class=\"simpletable\">\n",
       "<caption>Multiple Comparison of Means - Tukey HSD, FWER=0.05</caption>\n",
       "<tr>\n",
       "  <th>group1</th> <th>group2</th> <th>meandiff</th>  <th>p-adj</th>  <th>lower</th>   <th>upper</th> <th>reject</th>\n",
       "</tr>\n",
       "<tr>\n",
       "     <td>D</td>      <td>E</td>    <td>-0.0375</td> <td>0.2115</td> <td>-0.0842</td> <td>0.0092</td>  <td>False</td>\n",
       "</tr>\n",
       "<tr>\n",
       "     <td>D</td>      <td>F</td>    <td>0.1455</td>    <td>0.0</td>  <td>0.0986</td>  <td>0.1924</td>  <td>True</td> \n",
       "</tr>\n",
       "<tr>\n",
       "     <td>D</td>      <td>G</td>    <td>0.1727</td>    <td>0.0</td>  <td>0.1273</td>  <td>0.2181</td>  <td>True</td> \n",
       "</tr>\n",
       "<tr>\n",
       "     <td>D</td>      <td>H</td>    <td>0.3015</td>    <td>0.0</td>  <td>0.2532</td>  <td>0.3499</td>  <td>True</td> \n",
       "</tr>\n",
       "<tr>\n",
       "     <td>D</td>      <td>I</td>    <td>0.4061</td>    <td>0.0</td>  <td>0.3522</td>  <td>0.4599</td>  <td>True</td> \n",
       "</tr>\n",
       "<tr>\n",
       "     <td>D</td>      <td>J</td>    <td>0.5291</td>    <td>0.0</td>  <td>0.4628</td>  <td>0.5953</td>  <td>True</td> \n",
       "</tr>\n",
       "<tr>\n",
       "     <td>E</td>      <td>F</td>     <td>0.183</td>    <td>0.0</td>  <td>0.1406</td>  <td>0.2255</td>  <td>True</td> \n",
       "</tr>\n",
       "<tr>\n",
       "     <td>E</td>      <td>G</td>    <td>0.2102</td>    <td>0.0</td>  <td>0.1694</td>   <td>0.251</td>  <td>True</td> \n",
       "</tr>\n",
       "<tr>\n",
       "     <td>E</td>      <td>H</td>     <td>0.339</td>    <td>0.0</td>   <td>0.295</td>  <td>0.3831</td>  <td>True</td> \n",
       "</tr>\n",
       "<tr>\n",
       "     <td>E</td>      <td>I</td>    <td>0.4436</td>    <td>0.0</td>  <td>0.3936</td>  <td>0.4935</td>  <td>True</td> \n",
       "</tr>\n",
       "<tr>\n",
       "     <td>E</td>      <td>J</td>    <td>0.5666</td>    <td>0.0</td>  <td>0.5034</td>  <td>0.6298</td>  <td>True</td> \n",
       "</tr>\n",
       "<tr>\n",
       "     <td>F</td>      <td>G</td>    <td>0.0271</td>  <td>0.4477</td> <td>-0.0139</td> <td>0.0682</td>  <td>False</td>\n",
       "</tr>\n",
       "<tr>\n",
       "     <td>F</td>      <td>H</td>     <td>0.156</td>    <td>0.0</td>  <td>0.1117</td>  <td>0.2003</td>  <td>True</td> \n",
       "</tr>\n",
       "<tr>\n",
       "     <td>F</td>      <td>I</td>    <td>0.2605</td>    <td>0.0</td>  <td>0.2103</td>  <td>0.3107</td>  <td>True</td> \n",
       "</tr>\n",
       "<tr>\n",
       "     <td>F</td>      <td>J</td>    <td>0.3835</td>    <td>0.0</td>  <td>0.3201</td>  <td>0.4469</td>  <td>True</td> \n",
       "</tr>\n",
       "<tr>\n",
       "     <td>G</td>      <td>H</td>    <td>0.1289</td>    <td>0.0</td>  <td>0.0862</td>  <td>0.1716</td>  <td>True</td> \n",
       "</tr>\n",
       "<tr>\n",
       "     <td>G</td>      <td>I</td>    <td>0.2334</td>    <td>0.0</td>  <td>0.1846</td>  <td>0.2822</td>  <td>True</td> \n",
       "</tr>\n",
       "<tr>\n",
       "     <td>G</td>      <td>J</td>    <td>0.3564</td>    <td>0.0</td>  <td>0.2941</td>  <td>0.4187</td>  <td>True</td> \n",
       "</tr>\n",
       "<tr>\n",
       "     <td>H</td>      <td>I</td>    <td>0.1045</td>    <td>0.0</td>   <td>0.053</td>  <td>0.1561</td>  <td>True</td> \n",
       "</tr>\n",
       "<tr>\n",
       "     <td>H</td>      <td>J</td>    <td>0.2275</td>    <td>0.0</td>  <td>0.1631</td>   <td>0.292</td>  <td>True</td> \n",
       "</tr>\n",
       "<tr>\n",
       "     <td>I</td>      <td>J</td>     <td>0.123</td>    <td>0.0</td>  <td>0.0544</td>  <td>0.1917</td>  <td>True</td> \n",
       "</tr>\n",
       "</table>"
      ],
      "text/latex": [
       "\\begin{center}\n",
       "\\begin{tabular}{ccccccc}\n",
       "\\toprule\n",
       "\\textbf{group1} & \\textbf{group2} & \\textbf{meandiff} & \\textbf{p-adj} & \\textbf{lower} & \\textbf{upper} & \\textbf{reject}  \\\\\n",
       "\\midrule\n",
       "       D        &        E        &      -0.0375      &     0.2115     &    -0.0842     &     0.0092     &      False       \\\\\n",
       "       D        &        F        &       0.1455      &      0.0       &     0.0986     &     0.1924     &       True       \\\\\n",
       "       D        &        G        &       0.1727      &      0.0       &     0.1273     &     0.2181     &       True       \\\\\n",
       "       D        &        H        &       0.3015      &      0.0       &     0.2532     &     0.3499     &       True       \\\\\n",
       "       D        &        I        &       0.4061      &      0.0       &     0.3522     &     0.4599     &       True       \\\\\n",
       "       D        &        J        &       0.5291      &      0.0       &     0.4628     &     0.5953     &       True       \\\\\n",
       "       E        &        F        &       0.183       &      0.0       &     0.1406     &     0.2255     &       True       \\\\\n",
       "       E        &        G        &       0.2102      &      0.0       &     0.1694     &     0.251      &       True       \\\\\n",
       "       E        &        H        &       0.339       &      0.0       &     0.295      &     0.3831     &       True       \\\\\n",
       "       E        &        I        &       0.4436      &      0.0       &     0.3936     &     0.4935     &       True       \\\\\n",
       "       E        &        J        &       0.5666      &      0.0       &     0.5034     &     0.6298     &       True       \\\\\n",
       "       F        &        G        &       0.0271      &     0.4477     &    -0.0139     &     0.0682     &      False       \\\\\n",
       "       F        &        H        &       0.156       &      0.0       &     0.1117     &     0.2003     &       True       \\\\\n",
       "       F        &        I        &       0.2605      &      0.0       &     0.2103     &     0.3107     &       True       \\\\\n",
       "       F        &        J        &       0.3835      &      0.0       &     0.3201     &     0.4469     &       True       \\\\\n",
       "       G        &        H        &       0.1289      &      0.0       &     0.0862     &     0.1716     &       True       \\\\\n",
       "       G        &        I        &       0.2334      &      0.0       &     0.1846     &     0.2822     &       True       \\\\\n",
       "       G        &        J        &       0.3564      &      0.0       &     0.2941     &     0.4187     &       True       \\\\\n",
       "       H        &        I        &       0.1045      &      0.0       &     0.053      &     0.1561     &       True       \\\\\n",
       "       H        &        J        &       0.2275      &      0.0       &     0.1631     &     0.292      &       True       \\\\\n",
       "       I        &        J        &       0.123       &      0.0       &     0.0544     &     0.1917     &       True       \\\\\n",
       "\\bottomrule\n",
       "\\end{tabular}\n",
       "%\\caption{Multiple Comparison of Means - Tukey HSD, FWER=0.05}\n",
       "\\end{center}"
      ],
      "text/plain": [
       "<class 'statsmodels.iolib.table.SimpleTable'>"
      ]
     },
     "execution_count": 6,
     "metadata": {},
     "output_type": "execute_result"
    }
   ],
   "source": [
    "# Perform Tuckey's post-hoc test\n",
    "pairwise_tukeyhsd(endog=df_data[\"log_price\"], groups=df_data[\"color\"], alpha=0.05).summary()"
   ]
  },
  {
   "cell_type": "markdown",
   "id": "5f7f91c5-5a5f-4610-9d7f-b672f9daec5f",
   "metadata": {},
   "source": [
    "## **2.5) Analysis of covariance (ANCOVA)**"
   ]
  },
  {
   "cell_type": "markdown",
   "id": "e1365352-9636-4d35-b5ee-3c618085e179",
   "metadata": {},
   "source": [
    "Analysis of covariance is a blend of ANOVA and regression. I is a statistica technique used to compare the means of different groups while controlling for the effects of one or more contiuous covariates. In other words compares a response variable by both a factor and a continuous independent variable. ANCOVA ises regression to adjust the depndent variable based on the covariates. This adjustment helps to isolate the effect of the independent variable, the grouping factor, on the response.  \n",
    "\n",
    "The first step in ANCOVA is to adjust the depndent variable by removing the influence of the covariates. This is done using a regression model. Then performs an ANOVA on the adjusted dependent variable. This step tests whether the group means are different, accounting for the covariates.\n",
    "\n",
    "If to an ANCOVA model the factor is removed, then it becomes a simple regression model. On the other hand, if the covariate is removed, it becomes an ANOVA model.  \n",
    "\n",
    "**Assumptions**\n",
    "> - **Linearity**  \n",
    "> _THe relationship between the covariate(s) and the dependent variable must be liner_  \n",
    "> - **Homogeneity of slopes**  \n",
    "> _The effect of the covariate should be the same across all groups_  \n",
    "> - **Normality and homoscedasticity**  \n",
    "> _The residuals should be normally distirbuted and have constant variance across groups_  \n",
    "> - **Independence**  \n",
    "> _Observations should be independent of each other_\n",
    "\n",
    "**Notes:**  \n",
    "> - The adjusted mean is the group mean after \"controlling for\" the covariate. Essentially, it answers the question: What would the mean be for each group if all groups had the same value for the covariate?\n",
    ">\n",
    "> - A Levene's test can be performed to check the assumption of equal variances across groups"
   ]
  },
  {
   "cell_type": "code",
   "execution_count": 83,
   "id": "829233f2-1357-40f1-b0b0-8c56fff07dd7",
   "metadata": {},
   "outputs": [
    {
     "data": {
      "image/png": "[encoded data removed]",
      "text/plain": [
       "<Figure size 600x400 with 1 Axes>"
      ]
     },
     "metadata": {},
     "output_type": "display_data"
    },
    {
     "name": "stdout",
     "output_type": "stream",
     "text": [
      "\n",
      "====================================================================================================\n",
      "                 sum_sq       df              F  PR(>F)\n",
      "C(cut)       228.284703      4.0     881.243088     0.0\n",
      "log_carat  51030.853876      1.0  787973.730176     0.0\n",
      "Residual    3492.880495  53934.0            NaN     NaN\n",
      "\n",
      "The null hypothesis is rejected.\n",
      "Despite of controlling for carat, the price is not the same for each color.\n",
      "====================================================================================================\n",
      "C(cut)[T.Premium]       8.438342\n",
      "C(cut)[T.Very Good]     8.440878\n",
      "C(cut)[T.Good]          8.363370\n",
      "C(cut)[T.Fair]          8.200125\n",
      "log_carat              10.213108\n",
      "dtype: float64\n",
      "\n",
      "These are the marginal means, also known as adjusted means\n",
      "Note that Premium and Very Good cuts are the most expensive, after removing the effect of carat.\n",
      "====================================================================================================\n"
     ]
    }
   ],
   "source": [
    "# Compute log of carat\n",
    "df_data[\"log_carat\"] = np.log(df_data[\"carat\"])\n",
    "\n",
    "# Plot relationship between dependent variable and covariate\n",
    "plt.figure(figsize=(6,4))\n",
    "plt.scatter(x=df_data[\"log_carat\"], y=df_data[\"log_price\"])\n",
    "plt.xlabel(\"Log of Carat\", fontsize=14)\n",
    "plt.ylabel(\"Log of Price\", fontsize=14)\n",
    "plt.show()\n",
    "\n",
    "# Perform ANCOVA analysis\n",
    "model = ols(data=df_data, formula=\"log_price ~ C(cut) + log_carat\").fit()\n",
    "\n",
    "# Compute the adjusted means\n",
    "adjusted_means = model.params[1:] + model.params['Intercept']\n",
    "\n",
    "# Output\n",
    "print(\"\\n\"+\"=\"*100)\n",
    "print(sm.stats.anova_lm(model, typ=2))\n",
    "print(\"\\nThe null hypothesis is rejected.\\nDespite of controlling for carat, the price is not the same for each color.\")\n",
    "print(\"=\"*100)\n",
    "print(adjusted_means)\n",
    "print(\"\\nThese are the marginal means, also known as adjusted means\")\n",
    "print(\"Note that Premium and Very Good cuts are the most expensive, after removing the effect of carat.\"+\"\\n\"+\"=\"*100)"
   ]
  }
 ],
 "metadata": {
  "kernelspec": {
   "display_name": "Python 3 (ipykernel)",
   "language": "python",
   "name": "python3"
  },
  "language_info": {
   "codemirror_mode": {
    "name": "ipython",
    "version": 3
   },
   "file_extension": ".py",
   "mimetype": "text/x-python",
   "name": "python",
   "nbconvert_exporter": "python",
   "pygments_lexer": "ipython3",
   "version": "3.10.14"
  }
 },
 "nbformat": 4,
 "nbformat_minor": 5
}
